{
  "nbformat": 4,
  "nbformat_minor": 0,
  "metadata": {
    "colab": {
      "name": "telecom_churn.ipynb",
      "version": "0.3.2",
      "provenance": [],
      "collapsed_sections": []
    },
    "kernelspec": {
      "name": "python3",
      "display_name": "Python 3"
    }
  },
  "cells": [
    {
      "metadata": {
        "id": "XFblSse0TeQ9",
        "colab_type": "text"
      },
      "cell_type": "markdown",
      "source": [
        "**This project is regarding chun in Telecom. Various ML algorithm will be used to check the accuracy of the model.**"
      ]
    },
    {
      "metadata": {
        "id": "hny6WVV4UZB5",
        "colab_type": "text"
      },
      "cell_type": "markdown",
      "source": [
        "**Import the packages needed for this project. Since colab is used , get the authentication from gmail and reac the file**."
      ]
    },
    {
      "metadata": {
        "id": "b6ofpvAOTwTq",
        "colab_type": "code",
        "colab": {}
      },
      "cell_type": "code",
      "source": [
        "!pip install -U -q PyDrive"
      ],
      "execution_count": 0,
      "outputs": []
    },
    {
      "metadata": {
        "id": "dFmqQq6m3JU3",
        "colab_type": "code",
        "outputId": "c0869bba-1104-476a-e8ca-f8b7d9c26fd9",
        "colab": {
          "base_uri": "https://localhost:8080/",
          "height": 72
        }
      },
      "cell_type": "code",
      "source": [
        "import sqlite3\n",
        "import numpy as np\n",
        "import pylab as pl\n",
        "import pandas as pd\n",
        "import statsmodels.api as sm\n",
        "import matplotlib.pyplot as plt\n",
        "\n",
        "from math import sqrt\n",
        "from sklearn.metrics import mean_squared_errorTs_val_score\n",
        "\n",
        "%matplotlib inline"
      ],
      "execution_count": 0,
      "outputs": [
        {
          "output_type": "stream",
          "text": [
            "/usr/local/lib/python3.6/dist-packages/statsmodels/compat/pandas.py:56: FutureWarning: The pandas.core.datetools module is deprecated and will be removed in a future version. Please use the pandas.tseries module instead.\n",
            "  from pandas.core import datetools\n"
          ],
          "name": "stderr"
        }
      ]
    },
    {
      "metadata": {
        "id": "OyqTI9E33Kzr",
        "colab_type": "code",
        "colab": {}
      },
      "cell_type": "code",
      "source": [
        "import keras\n",
        "import psutil\n",
        "import pandas as pd\n",
        "import tensorflow as tf\n",
        "from google.colab import auth\n",
        "from google.colab import files\n",
        "from pydrive.auth import GoogleAuth\n",
        "from pydrive.drive import GoogleDrive\n",
        "from oauth2client.client import GoogleCredentials"
      ],
      "execution_count": 0,
      "outputs": []
    },
    {
      "metadata": {
        "id": "GTzqUNOJ3OE-",
        "colab_type": "code",
        "colab": {}
      },
      "cell_type": "code",
      "source": [
        "auth.authenticate_user()\n",
        "gauth = GoogleAuth()\n",
        "gauth.credentials = GoogleCredentials.get_application_default()\n",
        "drive = GoogleDrive(gauth)"
      ],
      "execution_count": 0,
      "outputs": []
    },
    {
      "metadata": {
        "id": "tc9WAFtm3Wdr",
        "colab_type": "code",
        "colab": {}
      },
      "cell_type": "code",
      "source": [
        "file1 = drive.CreateFile({'id':'1ug6vOJoyjuxmnTLhC5DI89WNkIBpBK2h'})\n",
        "file1.GetContentFile('WA_Fn-UseC_-Telco-Customer-Churn.csv')"
      ],
      "execution_count": 0,
      "outputs": []
    },
    {
      "metadata": {
        "id": "VBmfuJQ-3eWc",
        "colab_type": "code",
        "outputId": "00926ef4-333f-4a36-a151-55aa0899a573",
        "colab": {
          "base_uri": "https://localhost:8080/",
          "height": 34
        }
      },
      "cell_type": "code",
      "source": [
        "!ls"
      ],
      "execution_count": 0,
      "outputs": [
        {
          "output_type": "stream",
          "text": [
            "adc.json  sample_data  WA_Fn-UseC_-Telco-Customer-Churn.csv\n"
          ],
          "name": "stdout"
        }
      ]
    },
    {
      "metadata": {
        "id": "vsb9a2_33hTg",
        "colab_type": "code",
        "colab": {}
      },
      "cell_type": "code",
      "source": [
        "import numpy as np\n",
        "import pandas as pd\n",
        "import matplotlib.pyplot as plt\n",
        "import seaborn as sns\n",
        "%matplotlib inline"
      ],
      "execution_count": 0,
      "outputs": []
    },
    {
      "metadata": {
        "id": "fTqVCMkYUt4I",
        "colab_type": "text"
      },
      "cell_type": "markdown",
      "source": [
        "**Read the csv and print few lines**"
      ]
    },
    {
      "metadata": {
        "id": "wc0QDJmh4L3l",
        "colab_type": "code",
        "colab": {}
      },
      "cell_type": "code",
      "source": [
        "df = pd.read_csv('WA_Fn-UseC_-Telco-Customer-Churn.csv',index_col='customerID')"
      ],
      "execution_count": 0,
      "outputs": []
    },
    {
      "metadata": {
        "id": "Jy5StNvb5oQV",
        "colab_type": "code",
        "outputId": "8e5cc89a-5717-462f-9443-f7920122333a",
        "colab": {
          "base_uri": "https://localhost:8080/",
          "height": 331
        }
      },
      "cell_type": "code",
      "source": [
        "df.head()"
      ],
      "execution_count": 0,
      "outputs": [
        {
          "output_type": "execute_result",
          "data": {
            "text/html": [
              "<div>\n",
              "<style scoped>\n",
              "    .dataframe tbody tr th:only-of-type {\n",
              "        vertical-align: middle;\n",
              "    }\n",
              "\n",
              "    .dataframe tbody tr th {\n",
              "        vertical-align: top;\n",
              "    }\n",
              "\n",
              "    .dataframe thead th {\n",
              "        text-align: right;\n",
              "    }\n",
              "</style>\n",
              "<table border=\"1\" class=\"dataframe\">\n",
              "  <thead>\n",
              "    <tr style=\"text-align: right;\">\n",
              "      <th></th>\n",
              "      <th>gender</th>\n",
              "      <th>SeniorCitizen</th>\n",
              "      <th>Partner</th>\n",
              "      <th>Dependents</th>\n",
              "      <th>tenure</th>\n",
              "      <th>PhoneService</th>\n",
              "      <th>MultipleLines</th>\n",
              "      <th>InternetService</th>\n",
              "      <th>OnlineSecurity</th>\n",
              "      <th>OnlineBackup</th>\n",
              "      <th>DeviceProtection</th>\n",
              "      <th>TechSupport</th>\n",
              "      <th>StreamingTV</th>\n",
              "      <th>StreamingMovies</th>\n",
              "      <th>Contract</th>\n",
              "      <th>PaperlessBilling</th>\n",
              "      <th>PaymentMethod</th>\n",
              "      <th>MonthlyCharges</th>\n",
              "      <th>TotalCharges</th>\n",
              "      <th>Churn</th>\n",
              "    </tr>\n",
              "    <tr>\n",
              "      <th>customerID</th>\n",
              "      <th></th>\n",
              "      <th></th>\n",
              "      <th></th>\n",
              "      <th></th>\n",
              "      <th></th>\n",
              "      <th></th>\n",
              "      <th></th>\n",
              "      <th></th>\n",
              "      <th></th>\n",
              "      <th></th>\n",
              "      <th></th>\n",
              "      <th></th>\n",
              "      <th></th>\n",
              "      <th></th>\n",
              "      <th></th>\n",
              "      <th></th>\n",
              "      <th></th>\n",
              "      <th></th>\n",
              "      <th></th>\n",
              "      <th></th>\n",
              "    </tr>\n",
              "  </thead>\n",
              "  <tbody>\n",
              "    <tr>\n",
              "      <th>7590-VHVEG</th>\n",
              "      <td>Female</td>\n",
              "      <td>0</td>\n",
              "      <td>Yes</td>\n",
              "      <td>No</td>\n",
              "      <td>1</td>\n",
              "      <td>No</td>\n",
              "      <td>No phone service</td>\n",
              "      <td>DSL</td>\n",
              "      <td>No</td>\n",
              "      <td>Yes</td>\n",
              "      <td>No</td>\n",
              "      <td>No</td>\n",
              "      <td>No</td>\n",
              "      <td>No</td>\n",
              "      <td>Month-to-month</td>\n",
              "      <td>Yes</td>\n",
              "      <td>Electronic check</td>\n",
              "      <td>29.85</td>\n",
              "      <td>29.85</td>\n",
              "      <td>No</td>\n",
              "    </tr>\n",
              "    <tr>\n",
              "      <th>5575-GNVDE</th>\n",
              "      <td>Male</td>\n",
              "      <td>0</td>\n",
              "      <td>No</td>\n",
              "      <td>No</td>\n",
              "      <td>34</td>\n",
              "      <td>Yes</td>\n",
              "      <td>No</td>\n",
              "      <td>DSL</td>\n",
              "      <td>Yes</td>\n",
              "      <td>No</td>\n",
              "      <td>Yes</td>\n",
              "      <td>No</td>\n",
              "      <td>No</td>\n",
              "      <td>No</td>\n",
              "      <td>One year</td>\n",
              "      <td>No</td>\n",
              "      <td>Mailed check</td>\n",
              "      <td>56.95</td>\n",
              "      <td>1889.5</td>\n",
              "      <td>No</td>\n",
              "    </tr>\n",
              "    <tr>\n",
              "      <th>3668-QPYBK</th>\n",
              "      <td>Male</td>\n",
              "      <td>0</td>\n",
              "      <td>No</td>\n",
              "      <td>No</td>\n",
              "      <td>2</td>\n",
              "      <td>Yes</td>\n",
              "      <td>No</td>\n",
              "      <td>DSL</td>\n",
              "      <td>Yes</td>\n",
              "      <td>Yes</td>\n",
              "      <td>No</td>\n",
              "      <td>No</td>\n",
              "      <td>No</td>\n",
              "      <td>No</td>\n",
              "      <td>Month-to-month</td>\n",
              "      <td>Yes</td>\n",
              "      <td>Mailed check</td>\n",
              "      <td>53.85</td>\n",
              "      <td>108.15</td>\n",
              "      <td>Yes</td>\n",
              "    </tr>\n",
              "    <tr>\n",
              "      <th>7795-CFOCW</th>\n",
              "      <td>Male</td>\n",
              "      <td>0</td>\n",
              "      <td>No</td>\n",
              "      <td>No</td>\n",
              "      <td>45</td>\n",
              "      <td>No</td>\n",
              "      <td>No phone service</td>\n",
              "      <td>DSL</td>\n",
              "      <td>Yes</td>\n",
              "      <td>No</td>\n",
              "      <td>Yes</td>\n",
              "      <td>Yes</td>\n",
              "      <td>No</td>\n",
              "      <td>No</td>\n",
              "      <td>One year</td>\n",
              "      <td>No</td>\n",
              "      <td>Bank transfer (automatic)</td>\n",
              "      <td>42.30</td>\n",
              "      <td>1840.75</td>\n",
              "      <td>No</td>\n",
              "    </tr>\n",
              "    <tr>\n",
              "      <th>9237-HQITU</th>\n",
              "      <td>Female</td>\n",
              "      <td>0</td>\n",
              "      <td>No</td>\n",
              "      <td>No</td>\n",
              "      <td>2</td>\n",
              "      <td>Yes</td>\n",
              "      <td>No</td>\n",
              "      <td>Fiber optic</td>\n",
              "      <td>No</td>\n",
              "      <td>No</td>\n",
              "      <td>No</td>\n",
              "      <td>No</td>\n",
              "      <td>No</td>\n",
              "      <td>No</td>\n",
              "      <td>Month-to-month</td>\n",
              "      <td>Yes</td>\n",
              "      <td>Electronic check</td>\n",
              "      <td>70.70</td>\n",
              "      <td>151.65</td>\n",
              "      <td>Yes</td>\n",
              "    </tr>\n",
              "  </tbody>\n",
              "</table>\n",
              "</div>"
            ],
            "text/plain": [
              "            gender  SeniorCitizen Partner Dependents  tenure PhoneService  \\\n",
              "customerID                                                                  \n",
              "7590-VHVEG  Female              0     Yes         No       1           No   \n",
              "5575-GNVDE    Male              0      No         No      34          Yes   \n",
              "3668-QPYBK    Male              0      No         No       2          Yes   \n",
              "7795-CFOCW    Male              0      No         No      45           No   \n",
              "9237-HQITU  Female              0      No         No       2          Yes   \n",
              "\n",
              "               MultipleLines InternetService OnlineSecurity OnlineBackup  \\\n",
              "customerID                                                                 \n",
              "7590-VHVEG  No phone service             DSL             No          Yes   \n",
              "5575-GNVDE                No             DSL            Yes           No   \n",
              "3668-QPYBK                No             DSL            Yes          Yes   \n",
              "7795-CFOCW  No phone service             DSL            Yes           No   \n",
              "9237-HQITU                No     Fiber optic             No           No   \n",
              "\n",
              "           DeviceProtection TechSupport StreamingTV StreamingMovies  \\\n",
              "customerID                                                            \n",
              "7590-VHVEG               No          No          No              No   \n",
              "5575-GNVDE              Yes          No          No              No   \n",
              "3668-QPYBK               No          No          No              No   \n",
              "7795-CFOCW              Yes         Yes          No              No   \n",
              "9237-HQITU               No          No          No              No   \n",
              "\n",
              "                  Contract PaperlessBilling              PaymentMethod  \\\n",
              "customerID                                                               \n",
              "7590-VHVEG  Month-to-month              Yes           Electronic check   \n",
              "5575-GNVDE        One year               No               Mailed check   \n",
              "3668-QPYBK  Month-to-month              Yes               Mailed check   \n",
              "7795-CFOCW        One year               No  Bank transfer (automatic)   \n",
              "9237-HQITU  Month-to-month              Yes           Electronic check   \n",
              "\n",
              "            MonthlyCharges TotalCharges Churn  \n",
              "customerID                                     \n",
              "7590-VHVEG           29.85        29.85    No  \n",
              "5575-GNVDE           56.95       1889.5    No  \n",
              "3668-QPYBK           53.85       108.15   Yes  \n",
              "7795-CFOCW           42.30      1840.75    No  \n",
              "9237-HQITU           70.70       151.65   Yes  "
            ]
          },
          "metadata": {
            "tags": []
          },
          "execution_count": 11
        }
      ]
    },
    {
      "metadata": {
        "id": "9bGz1YdbVAGz",
        "colab_type": "text"
      },
      "cell_type": "markdown",
      "source": [
        "**Get the shape of the dataframe**"
      ]
    },
    {
      "metadata": {
        "id": "Wxfa_Yz06NgW",
        "colab_type": "code",
        "outputId": "5757fcc2-3d97-421d-b562-4b3b8ef29893",
        "colab": {
          "base_uri": "https://localhost:8080/",
          "height": 34
        }
      },
      "cell_type": "code",
      "source": [
        "df.shape"
      ],
      "execution_count": 0,
      "outputs": [
        {
          "output_type": "execute_result",
          "data": {
            "text/plain": [
              "(7043, 20)"
            ]
          },
          "metadata": {
            "tags": []
          },
          "execution_count": 12
        }
      ]
    },
    {
      "metadata": {
        "id": "M98zbDqFVFy2",
        "colab_type": "text"
      },
      "cell_type": "markdown",
      "source": [
        "**Get the information of all the columns present in the data frame, including the data type and whether they are null or non null columns**"
      ]
    },
    {
      "metadata": {
        "id": "NVtdYJLH5rYq",
        "colab_type": "code",
        "outputId": "ff2a26c0-cebb-4011-d08c-836eb78dc1b7",
        "colab": {
          "base_uri": "https://localhost:8080/",
          "height": 461
        }
      },
      "cell_type": "code",
      "source": [
        "df.info()"
      ],
      "execution_count": 0,
      "outputs": [
        {
          "output_type": "stream",
          "text": [
            "<class 'pandas.core.frame.DataFrame'>\n",
            "Index: 7043 entries, 7590-VHVEG to 3186-AJIEK\n",
            "Data columns (total 20 columns):\n",
            "gender              7043 non-null object\n",
            "SeniorCitizen       7043 non-null int64\n",
            "Partner             7043 non-null object\n",
            "Dependents          7043 non-null object\n",
            "tenure              7043 non-null int64\n",
            "PhoneService        7043 non-null object\n",
            "MultipleLines       7043 non-null object\n",
            "InternetService     7043 non-null object\n",
            "OnlineSecurity      7043 non-null object\n",
            "OnlineBackup        7043 non-null object\n",
            "DeviceProtection    7043 non-null object\n",
            "TechSupport         7043 non-null object\n",
            "StreamingTV         7043 non-null object\n",
            "StreamingMovies     7043 non-null object\n",
            "Contract            7043 non-null object\n",
            "PaperlessBilling    7043 non-null object\n",
            "PaymentMethod       7043 non-null object\n",
            "MonthlyCharges      7043 non-null float64\n",
            "TotalCharges        7043 non-null object\n",
            "Churn               7043 non-null object\n",
            "dtypes: float64(1), int64(2), object(17)\n",
            "memory usage: 1.1+ MB\n"
          ],
          "name": "stdout"
        }
      ]
    },
    {
      "metadata": {
        "id": "mHUm2SsiVZIA",
        "colab_type": "text"
      },
      "cell_type": "markdown",
      "source": [
        "**Display the columns which are of object  data type**"
      ]
    },
    {
      "metadata": {
        "id": "jxKwd-o355xL",
        "colab_type": "code",
        "outputId": "3cc530f4-deb5-4761-e23b-449d73ca6c5b",
        "colab": {
          "base_uri": "https://localhost:8080/",
          "height": 204
        }
      },
      "cell_type": "code",
      "source": [
        "df.describe(include=object)"
      ],
      "execution_count": 0,
      "outputs": [
        {
          "output_type": "execute_result",
          "data": {
            "text/html": [
              "<div>\n",
              "<style scoped>\n",
              "    .dataframe tbody tr th:only-of-type {\n",
              "        vertical-align: middle;\n",
              "    }\n",
              "\n",
              "    .dataframe tbody tr th {\n",
              "        vertical-align: top;\n",
              "    }\n",
              "\n",
              "    .dataframe thead th {\n",
              "        text-align: right;\n",
              "    }\n",
              "</style>\n",
              "<table border=\"1\" class=\"dataframe\">\n",
              "  <thead>\n",
              "    <tr style=\"text-align: right;\">\n",
              "      <th></th>\n",
              "      <th>gender</th>\n",
              "      <th>Partner</th>\n",
              "      <th>Dependents</th>\n",
              "      <th>PhoneService</th>\n",
              "      <th>MultipleLines</th>\n",
              "      <th>InternetService</th>\n",
              "      <th>OnlineSecurity</th>\n",
              "      <th>OnlineBackup</th>\n",
              "      <th>DeviceProtection</th>\n",
              "      <th>TechSupport</th>\n",
              "      <th>StreamingTV</th>\n",
              "      <th>StreamingMovies</th>\n",
              "      <th>Contract</th>\n",
              "      <th>PaperlessBilling</th>\n",
              "      <th>PaymentMethod</th>\n",
              "      <th>TotalCharges</th>\n",
              "      <th>Churn</th>\n",
              "    </tr>\n",
              "  </thead>\n",
              "  <tbody>\n",
              "    <tr>\n",
              "      <th>count</th>\n",
              "      <td>7043</td>\n",
              "      <td>7043</td>\n",
              "      <td>7043</td>\n",
              "      <td>7043</td>\n",
              "      <td>7043</td>\n",
              "      <td>7043</td>\n",
              "      <td>7043</td>\n",
              "      <td>7043</td>\n",
              "      <td>7043</td>\n",
              "      <td>7043</td>\n",
              "      <td>7043</td>\n",
              "      <td>7043</td>\n",
              "      <td>7043</td>\n",
              "      <td>7043</td>\n",
              "      <td>7043</td>\n",
              "      <td>7043</td>\n",
              "      <td>7043</td>\n",
              "    </tr>\n",
              "    <tr>\n",
              "      <th>unique</th>\n",
              "      <td>2</td>\n",
              "      <td>2</td>\n",
              "      <td>2</td>\n",
              "      <td>2</td>\n",
              "      <td>3</td>\n",
              "      <td>3</td>\n",
              "      <td>3</td>\n",
              "      <td>3</td>\n",
              "      <td>3</td>\n",
              "      <td>3</td>\n",
              "      <td>3</td>\n",
              "      <td>3</td>\n",
              "      <td>3</td>\n",
              "      <td>2</td>\n",
              "      <td>4</td>\n",
              "      <td>6531</td>\n",
              "      <td>2</td>\n",
              "    </tr>\n",
              "    <tr>\n",
              "      <th>top</th>\n",
              "      <td>Male</td>\n",
              "      <td>No</td>\n",
              "      <td>No</td>\n",
              "      <td>Yes</td>\n",
              "      <td>No</td>\n",
              "      <td>Fiber optic</td>\n",
              "      <td>No</td>\n",
              "      <td>No</td>\n",
              "      <td>No</td>\n",
              "      <td>No</td>\n",
              "      <td>No</td>\n",
              "      <td>No</td>\n",
              "      <td>Month-to-month</td>\n",
              "      <td>Yes</td>\n",
              "      <td>Electronic check</td>\n",
              "      <td>20.2</td>\n",
              "      <td>No</td>\n",
              "    </tr>\n",
              "    <tr>\n",
              "      <th>freq</th>\n",
              "      <td>3555</td>\n",
              "      <td>3641</td>\n",
              "      <td>4933</td>\n",
              "      <td>6361</td>\n",
              "      <td>3390</td>\n",
              "      <td>3096</td>\n",
              "      <td>3498</td>\n",
              "      <td>3088</td>\n",
              "      <td>3095</td>\n",
              "      <td>3473</td>\n",
              "      <td>2810</td>\n",
              "      <td>2785</td>\n",
              "      <td>3875</td>\n",
              "      <td>4171</td>\n",
              "      <td>2365</td>\n",
              "      <td>11</td>\n",
              "      <td>5174</td>\n",
              "    </tr>\n",
              "  </tbody>\n",
              "</table>\n",
              "</div>"
            ],
            "text/plain": [
              "       gender Partner Dependents PhoneService MultipleLines InternetService  \\\n",
              "count    7043    7043       7043         7043          7043            7043   \n",
              "unique      2       2          2            2             3               3   \n",
              "top      Male      No         No          Yes            No     Fiber optic   \n",
              "freq     3555    3641       4933         6361          3390            3096   \n",
              "\n",
              "       OnlineSecurity OnlineBackup DeviceProtection TechSupport StreamingTV  \\\n",
              "count            7043         7043             7043        7043        7043   \n",
              "unique              3            3                3           3           3   \n",
              "top                No           No               No          No          No   \n",
              "freq             3498         3088             3095        3473        2810   \n",
              "\n",
              "       StreamingMovies        Contract PaperlessBilling     PaymentMethod  \\\n",
              "count             7043            7043             7043              7043   \n",
              "unique               3               3                2                 4   \n",
              "top                 No  Month-to-month              Yes  Electronic check   \n",
              "freq              2785            3875             4171              2365   \n",
              "\n",
              "       TotalCharges Churn  \n",
              "count          7043  7043  \n",
              "unique         6531     2  \n",
              "top            20.2    No  \n",
              "freq             11  5174  "
            ]
          },
          "metadata": {
            "tags": []
          },
          "execution_count": 14
        }
      ]
    },
    {
      "metadata": {
        "id": "l9FgCaWAVyrl",
        "colab_type": "text"
      },
      "cell_type": "markdown",
      "source": [
        "**Check if any column has missing values**"
      ]
    },
    {
      "metadata": {
        "id": "kSuU0tJiV_vU",
        "colab_type": "text"
      },
      "cell_type": "markdown",
      "source": [
        "**In Total charges column  remove the space and will the nan values with the mean of the column and convert it into number data type**"
      ]
    },
    {
      "metadata": {
        "id": "HS65Zh-J6Fhp",
        "colab_type": "code",
        "outputId": "5b71e7e2-cbd6-4fe7-e685-9ef92df9e649",
        "colab": {
          "base_uri": "https://localhost:8080/",
          "height": 390
        }
      },
      "cell_type": "code",
      "source": [
        "df.isna().any()"
      ],
      "execution_count": 0,
      "outputs": [
        {
          "output_type": "execute_result",
          "data": {
            "text/plain": [
              "gender              False\n",
              "SeniorCitizen       False\n",
              "Partner             False\n",
              "Dependents          False\n",
              "tenure              False\n",
              "PhoneService        False\n",
              "MultipleLines       False\n",
              "InternetService     False\n",
              "OnlineSecurity      False\n",
              "OnlineBackup        False\n",
              "DeviceProtection    False\n",
              "TechSupport         False\n",
              "StreamingTV         False\n",
              "StreamingMovies     False\n",
              "Contract            False\n",
              "PaperlessBilling    False\n",
              "PaymentMethod       False\n",
              "MonthlyCharges      False\n",
              "TotalCharges        False\n",
              "Churn               False\n",
              "dtype: bool"
            ]
          },
          "metadata": {
            "tags": []
          },
          "execution_count": 15
        }
      ]
    },
    {
      "metadata": {
        "id": "fhGin-jN6Ja5",
        "colab_type": "code",
        "outputId": "accf2a5d-9cb9-4e44-fc49-989bf6ee22dc",
        "colab": {
          "base_uri": "https://localhost:8080/",
          "height": 97
        }
      },
      "cell_type": "code",
      "source": [
        "df[df['TotalCharges'].isna()]"
      ],
      "execution_count": 0,
      "outputs": [
        {
          "output_type": "execute_result",
          "data": {
            "text/html": [
              "<div>\n",
              "<style scoped>\n",
              "    .dataframe tbody tr th:only-of-type {\n",
              "        vertical-align: middle;\n",
              "    }\n",
              "\n",
              "    .dataframe tbody tr th {\n",
              "        vertical-align: top;\n",
              "    }\n",
              "\n",
              "    .dataframe thead th {\n",
              "        text-align: right;\n",
              "    }\n",
              "</style>\n",
              "<table border=\"1\" class=\"dataframe\">\n",
              "  <thead>\n",
              "    <tr style=\"text-align: right;\">\n",
              "      <th></th>\n",
              "      <th>gender</th>\n",
              "      <th>SeniorCitizen</th>\n",
              "      <th>Partner</th>\n",
              "      <th>Dependents</th>\n",
              "      <th>tenure</th>\n",
              "      <th>PhoneService</th>\n",
              "      <th>MultipleLines</th>\n",
              "      <th>InternetService</th>\n",
              "      <th>OnlineSecurity</th>\n",
              "      <th>OnlineBackup</th>\n",
              "      <th>DeviceProtection</th>\n",
              "      <th>TechSupport</th>\n",
              "      <th>StreamingTV</th>\n",
              "      <th>StreamingMovies</th>\n",
              "      <th>Contract</th>\n",
              "      <th>PaperlessBilling</th>\n",
              "      <th>PaymentMethod</th>\n",
              "      <th>MonthlyCharges</th>\n",
              "      <th>TotalCharges</th>\n",
              "      <th>Churn</th>\n",
              "    </tr>\n",
              "    <tr>\n",
              "      <th>customerID</th>\n",
              "      <th></th>\n",
              "      <th></th>\n",
              "      <th></th>\n",
              "      <th></th>\n",
              "      <th></th>\n",
              "      <th></th>\n",
              "      <th></th>\n",
              "      <th></th>\n",
              "      <th></th>\n",
              "      <th></th>\n",
              "      <th></th>\n",
              "      <th></th>\n",
              "      <th></th>\n",
              "      <th></th>\n",
              "      <th></th>\n",
              "      <th></th>\n",
              "      <th></th>\n",
              "      <th></th>\n",
              "      <th></th>\n",
              "      <th></th>\n",
              "    </tr>\n",
              "  </thead>\n",
              "  <tbody>\n",
              "  </tbody>\n",
              "</table>\n",
              "</div>"
            ],
            "text/plain": [
              "Empty DataFrame\n",
              "Columns: [gender, SeniorCitizen, Partner, Dependents, tenure, PhoneService, MultipleLines, InternetService, OnlineSecurity, OnlineBackup, DeviceProtection, TechSupport, StreamingTV, StreamingMovies, Contract, PaperlessBilling, PaymentMethod, MonthlyCharges, TotalCharges, Churn]\n",
              "Index: []"
            ]
          },
          "metadata": {
            "tags": []
          },
          "execution_count": 16
        }
      ]
    },
    {
      "metadata": {
        "id": "Dl3BDnR-6f4T",
        "colab_type": "code",
        "outputId": "779eecd2-6712-4019-a679-f1de9e56d569",
        "colab": {
          "base_uri": "https://localhost:8080/",
          "height": 34
        }
      },
      "cell_type": "code",
      "source": [
        "len(df[df['TotalCharges'].isna()])"
      ],
      "execution_count": 0,
      "outputs": [
        {
          "output_type": "execute_result",
          "data": {
            "text/plain": [
              "0"
            ]
          },
          "metadata": {
            "tags": []
          },
          "execution_count": 17
        }
      ]
    },
    {
      "metadata": {
        "id": "yDburQsr6j69",
        "colab_type": "code",
        "outputId": "99a977e6-7326-424d-dabf-52807d4e1baf",
        "colab": {
          "base_uri": "https://localhost:8080/",
          "height": 105
        }
      },
      "cell_type": "code",
      "source": [
        "df[\"TotalCharges\"].describe()"
      ],
      "execution_count": 0,
      "outputs": [
        {
          "output_type": "execute_result",
          "data": {
            "text/plain": [
              "count     7043\n",
              "unique    6531\n",
              "top       20.2\n",
              "freq        11\n",
              "Name: TotalCharges, dtype: object"
            ]
          },
          "metadata": {
            "tags": []
          },
          "execution_count": 18
        }
      ]
    },
    {
      "metadata": {
        "id": "-NXoeb0S61_p",
        "colab_type": "code",
        "colab": {}
      },
      "cell_type": "code",
      "source": [
        "df['TotalCharges'] = df['TotalCharges'].replace(r'\\s+', np.nan, regex=True)"
      ],
      "execution_count": 0,
      "outputs": []
    },
    {
      "metadata": {
        "id": "Anp9w_Gc634Y",
        "colab_type": "code",
        "colab": {}
      },
      "cell_type": "code",
      "source": [
        "df['TotalCharges'] = pd.to_numeric(df['TotalCharges'])"
      ],
      "execution_count": 0,
      "outputs": []
    },
    {
      "metadata": {
        "id": "X5FK5N556_jP",
        "colab_type": "code",
        "colab": {}
      },
      "cell_type": "code",
      "source": [
        "df['TotalCharges'] = df['TotalCharges'].fillna((df['TotalCharges'].mean()))"
      ],
      "execution_count": 0,
      "outputs": []
    },
    {
      "metadata": {
        "id": "Zb_EjAx3WRaV",
        "colab_type": "text"
      },
      "cell_type": "markdown",
      "source": [
        "**Seperate Categorical and cumeric columns**"
      ]
    },
    {
      "metadata": {
        "id": "Qy4_DVwY7C-L",
        "colab_type": "code",
        "colab": {}
      },
      "cell_type": "code",
      "source": [
        "df_categorical = df.select_dtypes(include=object)\n",
        "column_categorical = df_categorical.columns\n",
        "df_numerical = df.select_dtypes(include=np.float)\n",
        "\n",
        "column_numerical = df_numerical.columns"
      ],
      "execution_count": 0,
      "outputs": []
    },
    {
      "metadata": {
        "id": "aabXZDqSWoo5",
        "colab_type": "text"
      },
      "cell_type": "markdown",
      "source": [
        "**Show the columns as histogram for columns which are of data type object and which are not**"
      ]
    },
    {
      "metadata": {
        "id": "WZlu5WhB7KeM",
        "colab_type": "code",
        "outputId": "76bf6b39-98e4-42b1-8722-de3f941745db",
        "colab": {
          "base_uri": "https://localhost:8080/",
          "height": 1185
        }
      },
      "cell_type": "code",
      "source": [
        "def display_plot(df, col_to_exclude, object_mode = True):\n",
        "    \"\"\" \n",
        "     This function plots the count or distribution of each column in the dataframe based on specified inputs\n",
        "     @Args\n",
        "       df: pandas dataframe\n",
        "       col_to_exclude: specific column to exclude from the plot, used for excluded key \n",
        "       object_mode: whether to plot on object data types or not (default: True)\n",
        "       \n",
        "     Return\n",
        "       No object returned but visualized plot will return based on specified inputs\n",
        "    \"\"\"\n",
        "    n = 0\n",
        "    this = []\n",
        "    \n",
        "    if object_mode:\n",
        "        nrows = 4\n",
        "        ncols = 4\n",
        "        width = 20\n",
        "        height = 20\n",
        "    else:\n",
        "        nrows = 2\n",
        "        ncols = 2\n",
        "        width = 14\n",
        "        height = 10\n",
        "    \n",
        "    \n",
        "    for column in df.columns:\n",
        "        if object_mode:\n",
        "            if (df[column].dtypes == 'O') & (column != col_to_exclude):\n",
        "                this.append(column)\n",
        "                \n",
        "                \n",
        "        else:\n",
        "            if (df[column].dtypes != 'O'):\n",
        "                this.append(column)\n",
        "    fig, ax = plt.subplots(nrows, ncols, sharex=False, sharey=False, figsize=(width, height))\n",
        "    for row in range(nrows):\n",
        "        for col in range(ncols):\n",
        "            if object_mode:\n",
        "                g = sns.countplot(df[this[n]], ax=ax[row][col]) \n",
        "            else:\n",
        "                g = sns.distplot(df[this[n]], ax = ax[row][col])\n",
        "\n",
        "\n",
        "            \n",
        "            ax[row,col].set_title(\"Column name: {}\".format(this[n]))\n",
        "            ax[row, col].set_xlabel(\"\")\n",
        "            ax[row, col].set_ylabel(\"\")\n",
        "            n += 1\n",
        "    plt.show();\n",
        "    return None\n",
        "display_plot(df, 'customerid', object_mode = True)\n"
      ],
      "execution_count": 0,
      "outputs": [
        {
          "output_type": "stream",
          "text": [
            "/usr/local/lib/python3.6/dist-packages/seaborn/categorical.py:1428: FutureWarning: remove_na is deprecated and is a private function. Do not use.\n",
            "  stat_data = remove_na(group_data)\n"
          ],
          "name": "stderr"
        },
        {
          "output_type": "display_data",
          "data": {
            "image/png": "[encoded data removed]",
            "text/plain": [
              "<Figure size 1440x1440 with 16 Axes>"
            ]
          },
          "metadata": {
            "tags": []
          }
        }
      ]
    },
    {
      "metadata": {
        "id": "mkf014Hl8xxc",
        "colab_type": "code",
        "outputId": "7544d247-c380-4dfb-b08c-c4c94007c79c",
        "colab": {
          "base_uri": "https://localhost:8080/",
          "height": 658
        }
      },
      "cell_type": "code",
      "source": [
        "display_plot(df, 'customerid', object_mode = False)"
      ],
      "execution_count": 0,
      "outputs": [
        {
          "output_type": "stream",
          "text": [
            "/usr/local/lib/python3.6/dist-packages/matplotlib/axes/_axes.py:6521: MatplotlibDeprecationWarning: \n",
            "The 'normed' kwarg was deprecated in Matplotlib 2.1 and will be removed in 3.1. Use 'density' instead.\n",
            "  alternative=\"'density'\", removal=\"3.1\")\n"
          ],
          "name": "stderr"
        },
        {
          "output_type": "display_data",
          "data": {
            "image/png": "[encoded data removed]",
            "text/plain": [
              "<Figure size 1008x720 with 4 Axes>"
            ]
          },
          "metadata": {
            "tags": []
          }
        }
      ]
    },
    {
      "metadata": {
        "id": "u6hqcGldZppL",
        "colab_type": "text"
      },
      "cell_type": "markdown",
      "source": [
        "**Get the relationship between Phone Serice and Multiplelines using crosstab**"
      ]
    },
    {
      "metadata": {
        "id": "7hFw64HX9SYS",
        "colab_type": "code",
        "outputId": "f3813e66-c084-446c-837e-c8b9085e4e1b",
        "colab": {
          "base_uri": "https://localhost:8080/",
          "height": 137
        }
      },
      "cell_type": "code",
      "source": [
        "\tpd.crosstab(index = df[\"PhoneService\"], columns = df[\"MultipleLines\"])"
      ],
      "execution_count": 0,
      "outputs": [
        {
          "output_type": "execute_result",
          "data": {
            "text/html": [
              "<div>\n",
              "<style scoped>\n",
              "    .dataframe tbody tr th:only-of-type {\n",
              "        vertical-align: middle;\n",
              "    }\n",
              "\n",
              "    .dataframe tbody tr th {\n",
              "        vertical-align: top;\n",
              "    }\n",
              "\n",
              "    .dataframe thead th {\n",
              "        text-align: right;\n",
              "    }\n",
              "</style>\n",
              "<table border=\"1\" class=\"dataframe\">\n",
              "  <thead>\n",
              "    <tr style=\"text-align: right;\">\n",
              "      <th>MultipleLines</th>\n",
              "      <th>No</th>\n",
              "      <th>No phone service</th>\n",
              "      <th>Yes</th>\n",
              "    </tr>\n",
              "    <tr>\n",
              "      <th>PhoneService</th>\n",
              "      <th></th>\n",
              "      <th></th>\n",
              "      <th></th>\n",
              "    </tr>\n",
              "  </thead>\n",
              "  <tbody>\n",
              "    <tr>\n",
              "      <th>No</th>\n",
              "      <td>0</td>\n",
              "      <td>682</td>\n",
              "      <td>0</td>\n",
              "    </tr>\n",
              "    <tr>\n",
              "      <th>Yes</th>\n",
              "      <td>3390</td>\n",
              "      <td>0</td>\n",
              "      <td>2971</td>\n",
              "    </tr>\n",
              "  </tbody>\n",
              "</table>\n",
              "</div>"
            ],
            "text/plain": [
              "MultipleLines    No  No phone service   Yes\n",
              "PhoneService                               \n",
              "No                0               682     0\n",
              "Yes            3390                 0  2971"
            ]
          },
          "metadata": {
            "tags": []
          },
          "execution_count": 25
        }
      ]
    },
    {
      "metadata": {
        "id": "LkvQ0HOQaAi4",
        "colab_type": "text"
      },
      "cell_type": "markdown",
      "source": [
        "**Get the relationship between Internet Service and Streaming TV using cross tab**"
      ]
    },
    {
      "metadata": {
        "id": "0dg1VHFW9hYo",
        "colab_type": "code",
        "outputId": "c4e722a6-506c-4542-9b4e-3dc6baacd183",
        "colab": {
          "base_uri": "https://localhost:8080/",
          "height": 167
        }
      },
      "cell_type": "code",
      "source": [
        "pd.crosstab(index = df[\"InternetService\"], columns = df[\"StreamingTV\"])"
      ],
      "execution_count": 0,
      "outputs": [
        {
          "output_type": "execute_result",
          "data": {
            "text/html": [
              "<div>\n",
              "<style scoped>\n",
              "    .dataframe tbody tr th:only-of-type {\n",
              "        vertical-align: middle;\n",
              "    }\n",
              "\n",
              "    .dataframe tbody tr th {\n",
              "        vertical-align: top;\n",
              "    }\n",
              "\n",
              "    .dataframe thead th {\n",
              "        text-align: right;\n",
              "    }\n",
              "</style>\n",
              "<table border=\"1\" class=\"dataframe\">\n",
              "  <thead>\n",
              "    <tr style=\"text-align: right;\">\n",
              "      <th>StreamingTV</th>\n",
              "      <th>No</th>\n",
              "      <th>No internet service</th>\n",
              "      <th>Yes</th>\n",
              "    </tr>\n",
              "    <tr>\n",
              "      <th>InternetService</th>\n",
              "      <th></th>\n",
              "      <th></th>\n",
              "      <th></th>\n",
              "    </tr>\n",
              "  </thead>\n",
              "  <tbody>\n",
              "    <tr>\n",
              "      <th>DSL</th>\n",
              "      <td>1464</td>\n",
              "      <td>0</td>\n",
              "      <td>957</td>\n",
              "    </tr>\n",
              "    <tr>\n",
              "      <th>Fiber optic</th>\n",
              "      <td>1346</td>\n",
              "      <td>0</td>\n",
              "      <td>1750</td>\n",
              "    </tr>\n",
              "    <tr>\n",
              "      <th>No</th>\n",
              "      <td>0</td>\n",
              "      <td>1526</td>\n",
              "      <td>0</td>\n",
              "    </tr>\n",
              "  </tbody>\n",
              "</table>\n",
              "</div>"
            ],
            "text/plain": [
              "StreamingTV        No  No internet service   Yes\n",
              "InternetService                                 \n",
              "DSL              1464                    0   957\n",
              "Fiber optic      1346                    0  1750\n",
              "No                  0                 1526     0"
            ]
          },
          "metadata": {
            "tags": []
          },
          "execution_count": 26
        }
      ]
    },
    {
      "metadata": {
        "id": "Oc9KrdY6ark_",
        "colab_type": "text"
      },
      "cell_type": "markdown",
      "source": [
        "**Create a function to make the column values as 'NO' for columns which  apart from NO  has some extra string **"
      ]
    },
    {
      "metadata": {
        "id": "TTbNUaEq9p4l",
        "colab_type": "code",
        "colab": {}
      },
      "cell_type": "code",
      "source": [
        "def convert_no_service (df):\n",
        "    col_to_transform = []\n",
        "    for col in df.columns:\n",
        "        if (df[col].dtype == 'O') & (col != 'customerid'):\n",
        "            if len(df[df[col].str.contains(\"No\")][col].unique()) > 1:\n",
        "                col_to_transform.append(col)\n",
        "    \n",
        "    print(\"Total column(s) to transform: {}\".format(col_to_transform))\n",
        "    for col in col_to_transform:\n",
        "        df.loc[df[col].str.contains(\"No\"), col] = 'No'\n",
        "        \n",
        "    return df"
      ],
      "execution_count": 0,
      "outputs": []
    },
    {
      "metadata": {
        "id": "cy-4d7tS9sAv",
        "colab_type": "code",
        "outputId": "3036fbd5-1f3b-40d5-c0ab-bdd692c805e3",
        "colab": {
          "base_uri": "https://localhost:8080/",
          "height": 34
        }
      },
      "cell_type": "code",
      "source": [
        "df = convert_no_service(df)"
      ],
      "execution_count": 0,
      "outputs": [
        {
          "output_type": "stream",
          "text": [
            "Total column(s) to transform: ['MultipleLines', 'OnlineSecurity', 'OnlineBackup', 'DeviceProtection', 'TechSupport', 'StreamingTV', 'StreamingMovies']\n"
          ],
          "name": "stdout"
        }
      ]
    },
    {
      "metadata": {
        "id": "FcmJjQgAbl0n",
        "colab_type": "text"
      },
      "cell_type": "markdown",
      "source": [
        "**Get the gender wise graph of people who has left/not left**"
      ]
    },
    {
      "metadata": {
        "id": "rQEc6mBorzyM",
        "colab_type": "code",
        "outputId": "64f99be0-2a85-436b-85ba-437ad7743f81",
        "colab": {
          "base_uri": "https://localhost:8080/",
          "height": 105
        }
      },
      "cell_type": "code",
      "source": [
        "print(pd.crosstab(df.gender,df.Churn,margins=True))"
      ],
      "execution_count": 0,
      "outputs": [
        {
          "output_type": "stream",
          "text": [
            "Churn     No   Yes   All\n",
            "gender                  \n",
            "Female  2549   939  3488\n",
            "Male    2625   930  3555\n",
            "All     5174  1869  7043\n"
          ],
          "name": "stdout"
        }
      ]
    },
    {
      "metadata": {
        "id": "UkVTmPKVs5-T",
        "colab_type": "code",
        "outputId": "383e44bd-dfc7-40a9-cbdf-dfab4ffb1d6e",
        "colab": {
          "base_uri": "https://localhost:8080/",
          "height": 392
        }
      },
      "cell_type": "code",
      "source": [
        "pd.crosstab(df.gender,df.Churn,margins=True).plot(kind='bar',figsize=(7,5));\n",
        "\n",
        "print('Percent of Females that Left the Company {0}'.format((939/1869)*100))\n",
        "print('Percent of Males that Left the Company {0}'.format((930/1869)*100))"
      ],
      "execution_count": 0,
      "outputs": [
        {
          "output_type": "stream",
          "text": [
            "Percent of Females that Left the Company 50.24077046548957\n",
            "Percent of Males that Left the Company 49.75922953451043\n"
          ],
          "name": "stdout"
        },
        {
          "output_type": "display_data",
          "data": {
            "image/png": "[encoded data removed]",
            "text/plain": [
              "<Figure size 504x360 with 1 Axes>"
            ]
          },
          "metadata": {
            "tags": []
          }
        }
      ]
    },
    {
      "metadata": {
        "id": "MN59M1nNtF40",
        "colab_type": "code",
        "outputId": "7e931111-9e09-4f34-bdc4-09df7a4266c1",
        "colab": {
          "base_uri": "https://localhost:8080/",
          "height": 123
        }
      },
      "cell_type": "code",
      "source": [
        "print(pd.crosstab(df.Contract,df.Churn,margins=True))"
      ],
      "execution_count": 0,
      "outputs": [
        {
          "output_type": "stream",
          "text": [
            "Churn             No   Yes   All\n",
            "Contract                        \n",
            "Month-to-month  2220  1655  3875\n",
            "One year        1307   166  1473\n",
            "Two year        1647    48  1695\n",
            "All             5174  1869  7043\n"
          ],
          "name": "stdout"
        }
      ]
    },
    {
      "metadata": {
        "id": "OaFPnf8TcNE6",
        "colab_type": "text"
      },
      "cell_type": "markdown",
      "source": [
        "**Get the graph contract wise who has left/not left**"
      ]
    },
    {
      "metadata": {
        "id": "dffbNo7EtMk-",
        "colab_type": "code",
        "outputId": "0b515d3d-4268-4cfd-813e-2ce3da402d31",
        "colab": {
          "base_uri": "https://localhost:8080/",
          "height": 447
        }
      },
      "cell_type": "code",
      "source": [
        "pd.crosstab(df.Contract,df.Churn,margins=True).plot(kind='bar',figsize=(7,5));\n",
        "\n",
        "print('Percent of Month-to-Month Contract People that Left the Company {0}'.format((1655/1869)*100))\n",
        "print('Percent of One-Year Contract People that Left the Company {0}'.format((166/1869)*100)) \n",
        "print('Percent of Two-Year Contract People that Left the Company {0}'.format((48/1869)*100))"
      ],
      "execution_count": 0,
      "outputs": [
        {
          "output_type": "stream",
          "text": [
            "Percent of Month-to-Month Contract People that Left the Company 88.55002675227395\n",
            "Percent of One-Year Contract People that Left the Company 8.881754949170679\n",
            "Percent of Two-Year Contract People that Left the Company 2.568218298555377\n"
          ],
          "name": "stdout"
        },
        {
          "output_type": "display_data",
          "data": {
            "image/png": "[encoded data removed]",
            "text/plain": [
              "<Figure size 504x360 with 1 Axes>"
            ]
          },
          "metadata": {
            "tags": []
          }
        }
      ]
    },
    {
      "metadata": {
        "id": "Sv_t1qHAceCI",
        "colab_type": "text"
      },
      "cell_type": "markdown",
      "source": [
        "**Display the graph based on internet services how many people has left/not left**"
      ]
    },
    {
      "metadata": {
        "id": "c8ms2Zpata4V",
        "colab_type": "code",
        "outputId": "e3e44a19-56d4-4aaf-afa0-1a1b9a9e8cb8",
        "colab": {
          "base_uri": "https://localhost:8080/",
          "height": 123
        }
      },
      "cell_type": "code",
      "source": [
        "# Internet Service Vs Churn\n",
        "print(pd.crosstab(df.InternetService,df.Churn,margins=True))"
      ],
      "execution_count": 0,
      "outputs": [
        {
          "output_type": "stream",
          "text": [
            "Churn              No   Yes   All\n",
            "InternetService                  \n",
            "DSL              1962   459  2421\n",
            "Fiber optic      1799  1297  3096\n",
            "No               1413   113  1526\n",
            "All              5174  1869  7043\n"
          ],
          "name": "stdout"
        }
      ]
    },
    {
      "metadata": {
        "id": "Pe5Bd-9Xtib6",
        "colab_type": "code",
        "outputId": "b75128b2-2457-4e11-800c-692c93465890",
        "colab": {
          "base_uri": "https://localhost:8080/",
          "height": 423
        }
      },
      "cell_type": "code",
      "source": [
        "pd.crosstab(df.InternetService,df.Churn,margins=True).plot(kind='bar',figsize=(7,5));\n",
        "\n",
        "print('Percent of DSL Internet-Service People that Left the Company {0}'.format((459/1869)*100))\n",
        "print('Percent of Fiber Optic Internet-Service People that Left the Company {0}'.format((1297/1869)*100)) \n",
        "print('Percent of No Internet-Service People that Left the Company {0}'.format((113/1869)*100))"
      ],
      "execution_count": 0,
      "outputs": [
        {
          "output_type": "stream",
          "text": [
            "Percent of DSL Internet-Service People that Left the Company 24.558587479935795\n",
            "Percent of Fiber Optic Internet-Service People that Left the Company 69.39539860888175\n",
            "Percent of No Internet-Service People that Left the Company 6.046013911182451\n"
          ],
          "name": "stdout"
        },
        {
          "output_type": "display_data",
          "data": {
            "image/png": "[encoded data removed]",
            "text/plain": [
              "<Figure size 504x360 with 1 Axes>"
            ]
          },
          "metadata": {
            "tags": []
          }
        }
      ]
    },
    {
      "metadata": {
        "id": "JbOmHnBKdVET",
        "colab_type": "text"
      },
      "cell_type": "markdown",
      "source": [
        "**Show the graph between Partner and Dependent**"
      ]
    },
    {
      "metadata": {
        "id": "ghFcQGSGtpRu",
        "colab_type": "code",
        "outputId": "10db636c-b569-446b-f0c3-cca634e3194b",
        "colab": {
          "base_uri": "https://localhost:8080/",
          "height": 105
        }
      },
      "cell_type": "code",
      "source": [
        "# Partner Vs Dependents\n",
        "print(pd.crosstab(df.Partner,df.Dependents,margins=True))"
      ],
      "execution_count": 0,
      "outputs": [
        {
          "output_type": "stream",
          "text": [
            "Dependents    No   Yes   All\n",
            "Partner                     \n",
            "No          3280   361  3641\n",
            "Yes         1653  1749  3402\n",
            "All         4933  2110  7043\n"
          ],
          "name": "stdout"
        }
      ]
    },
    {
      "metadata": {
        "id": "1CUTxo_Bt5Xt",
        "colab_type": "code",
        "outputId": "a9f6ac67-8790-4c68-ae34-b50c4c0b9d30",
        "colab": {
          "base_uri": "https://localhost:8080/",
          "height": 376
        }
      },
      "cell_type": "code",
      "source": [
        "pd.crosstab(df.Partner,df.Dependents,margins=True).plot(kind='bar',figsize=(5,5));\n",
        "\n",
        "print('Percent of Partner that had Dependents {0}'.format((1749/2110)*100))\n",
        "print('Percent of Non-Partner that had Dependents {0}'.format((361/2110)*100))"
      ],
      "execution_count": 0,
      "outputs": [
        {
          "output_type": "stream",
          "text": [
            "Percent of Partner that had Dependents 82.8909952606635\n",
            "Percent of Non-Partner that had Dependents 17.10900473933649\n"
          ],
          "name": "stdout"
        },
        {
          "output_type": "display_data",
          "data": {
            "image/png": "[encoded data removed]",
            "text/plain": [
              "<Figure size 360x360 with 1 Axes>"
            ]
          },
          "metadata": {
            "tags": []
          }
        }
      ]
    },
    {
      "metadata": {
        "id": "9yVPLUycde2x",
        "colab_type": "text"
      },
      "cell_type": "markdown",
      "source": [
        "**Show the graph of the partner who has left/not left**"
      ]
    },
    {
      "metadata": {
        "id": "cOIW7bpjt_uq",
        "colab_type": "code",
        "outputId": "9b578d90-21dd-4d4a-eedb-e0eafb656cab",
        "colab": {
          "base_uri": "https://localhost:8080/",
          "height": 105
        }
      },
      "cell_type": "code",
      "source": [
        "# Partner Vs Churn\n",
        "print(pd.crosstab(df.Partner,df.Churn,margins=True))"
      ],
      "execution_count": 0,
      "outputs": [
        {
          "output_type": "stream",
          "text": [
            "Churn      No   Yes   All\n",
            "Partner                  \n",
            "No       2441  1200  3641\n",
            "Yes      2733   669  3402\n",
            "All      5174  1869  7043\n"
          ],
          "name": "stdout"
        }
      ]
    },
    {
      "metadata": {
        "id": "VR4tk9pXuEWi",
        "colab_type": "code",
        "outputId": "61a9f04e-afcc-4dc4-c773-2c599371fbda",
        "colab": {
          "base_uri": "https://localhost:8080/",
          "height": 376
        }
      },
      "cell_type": "code",
      "source": [
        "pd.crosstab(df.Partner,df.Churn,margins=True).plot(kind='bar',figsize=(5,5));\n",
        "plt.figure(figsize=(17,8))"
      ],
      "execution_count": 0,
      "outputs": [
        {
          "output_type": "execute_result",
          "data": {
            "text/plain": [
              "<Figure size 1224x576 with 0 Axes>"
            ]
          },
          "metadata": {
            "tags": []
          },
          "execution_count": 38
        },
        {
          "output_type": "display_data",
          "data": {
            "image/png": "[encoded data removed]",
            "text/plain": [
              "<Figure size 360x360 with 1 Axes>"
            ]
          },
          "metadata": {
            "tags": []
          }
        },
        {
          "output_type": "display_data",
          "data": {
            "text/plain": [
              "<Figure size 1224x576 with 0 Axes>"
            ]
          },
          "metadata": {
            "tags": []
          }
        }
      ]
    },
    {
      "metadata": {
        "id": "8ByRTUuqd7d-",
        "colab_type": "text"
      },
      "cell_type": "markdown",
      "source": [
        "**Show the graph between tenure and the partner**"
      ]
    },
    {
      "metadata": {
        "id": "dJpTPPNcuYVO",
        "colab_type": "code",
        "outputId": "cbb8a263-5637-4c5a-d283-9f6f05932cab",
        "colab": {
          "base_uri": "https://localhost:8080/",
          "height": 350
        }
      },
      "cell_type": "code",
      "source": [
        "sns.countplot(x=df['tenure'],hue=df.Partner);\n",
        "plt.figure(figsize=(17,8))"
      ],
      "execution_count": 0,
      "outputs": [
        {
          "output_type": "stream",
          "text": [
            "/usr/local/lib/python3.6/dist-packages/seaborn/categorical.py:1468: FutureWarning: remove_na is deprecated and is a private function. Do not use.\n",
            "  stat_data = remove_na(group_data[hue_mask])\n"
          ],
          "name": "stderr"
        },
        {
          "output_type": "execute_result",
          "data": {
            "text/plain": [
              "<Figure size 1224x576 with 0 Axes>"
            ]
          },
          "metadata": {
            "tags": []
          },
          "execution_count": 41
        },
        {
          "output_type": "display_data",
          "data": {
            "image/png": "[encoded data removed]",
            "text/plain": [
              "<Figure size 432x288 with 1 Axes>"
            ]
          },
          "metadata": {
            "tags": []
          }
        },
        {
          "output_type": "display_data",
          "data": {
            "text/plain": [
              "<Figure size 1224x576 with 0 Axes>"
            ]
          },
          "metadata": {
            "tags": []
          }
        }
      ]
    },
    {
      "metadata": {
        "id": "L2Qs4eWMuhX4",
        "colab_type": "code",
        "outputId": "3f40cbdf-f971-4390-de6a-4718bc93e1a8",
        "colab": {
          "base_uri": "https://localhost:8080/",
          "height": 403
        }
      },
      "cell_type": "code",
      "source": [
        "sns.countplot(x=df['tenure'],hue=df.Partner);\n",
        "print(pd.crosstab(df.SeniorCitizen,df.Churn,margins=True))"
      ],
      "execution_count": 0,
      "outputs": [
        {
          "output_type": "stream",
          "text": [
            "/usr/local/lib/python3.6/dist-packages/seaborn/categorical.py:1468: FutureWarning: remove_na is deprecated and is a private function. Do not use.\n",
            "  stat_data = remove_na(group_data[hue_mask])\n"
          ],
          "name": "stderr"
        },
        {
          "output_type": "stream",
          "text": [
            "Churn            No   Yes   All\n",
            "SeniorCitizen                  \n",
            "0              4508  1393  5901\n",
            "1               666   476  1142\n",
            "All            5174  1869  7043\n"
          ],
          "name": "stdout"
        },
        {
          "output_type": "display_data",
          "data": {
            "image/png": "[encoded data removed]",
            "text/plain": [
              "<Figure size 432x288 with 1 Axes>"
            ]
          },
          "metadata": {
            "tags": []
          }
        }
      ]
    },
    {
      "metadata": {
        "id": "GSthWmpQeIGS",
        "colab_type": "text"
      },
      "cell_type": "markdown",
      "source": [
        "**Show the graph how in Senior citizen churn is happening**"
      ]
    },
    {
      "metadata": {
        "id": "uTLx-hh_u3Ci",
        "colab_type": "code",
        "outputId": "76c7d2d2-4104-4e4d-84a0-462e2bfb4010",
        "colab": {
          "base_uri": "https://localhost:8080/",
          "height": 274
        }
      },
      "cell_type": "code",
      "source": [
        "pd.crosstab(df.SeniorCitizen,df.Churn,normalize=True).plot(kind='bar');"
      ],
      "execution_count": 0,
      "outputs": [
        {
          "output_type": "display_data",
          "data": {
            "image/png": "[encoded data removed]",
            "text/plain": [
              "<Figure size 432x288 with 1 Axes>"
            ]
          },
          "metadata": {
            "tags": []
          }
        }
      ]
    },
    {
      "metadata": {
        "id": "CFX1IOkGuMR8",
        "colab_type": "text"
      },
      "cell_type": "markdown",
      "source": [
        "**Using boxplot show the relationship between different columns**"
      ]
    },
    {
      "metadata": {
        "id": "AlO-QO7evGha",
        "colab_type": "code",
        "outputId": "e12c7903-9c8b-4f33-9fc2-3359a89ec093",
        "colab": {
          "base_uri": "https://localhost:8080/",
          "height": 268
        }
      },
      "cell_type": "code",
      "source": [
        "df.boxplot('MonthlyCharges');\n",
        "sns.heatmap(df.corr(),xticklabels=df.corr().columns.values,yticklabels=df.corr().columns.values,annot=True);"
      ],
      "execution_count": 0,
      "outputs": [
        {
          "output_type": "display_data",
          "data": {
            "image/png": "[encoded data removed]",
            "text/plain": [
              "<Figure size 432x288 with 2 Axes>"
            ]
          },
          "metadata": {
            "tags": []
          }
        }
      ]
    },
    {
      "metadata": {
        "id": "GPIGIEaRu0ZB",
        "colab_type": "text"
      },
      "cell_type": "markdown",
      "source": [
        "**Categorize tenure into different group**"
      ]
    },
    {
      "metadata": {
        "id": "dWSl7dXZvQyE",
        "colab_type": "code",
        "colab": {}
      },
      "cell_type": "code",
      "source": [
        "#Tenure to categorical column\n",
        "def tenure_lab(telcom) :\n",
        "    \n",
        "    if telcom[\"tenure\"] <= 12 :\n",
        "        return \"Tenure_0-12\"\n",
        "    elif (telcom[\"tenure\"] > 12) & (telcom[\"tenure\"] <= 24 ):\n",
        "        return \"Tenure_12-24\"\n",
        "    elif (telcom[\"tenure\"] > 24) & (telcom[\"tenure\"] <= 48) :\n",
        "        return \"Tenure_24-48\"\n",
        "    elif (telcom[\"tenure\"] > 48) & (telcom[\"tenure\"] <= 60) :\n",
        "        return \"Tenure_48-60\"\n",
        "    elif telcom[\"tenure\"] > 60 :\n",
        "        return \"Tenure_gt_60\"\n",
        "    \n",
        "    \n",
        "df[\"tenure_group\"] = df.apply(lambda x:tenure_lab(x),axis = 1)"
      ],
      "execution_count": 0,
      "outputs": []
    },
    {
      "metadata": {
        "id": "1qnOIeRSvKQs",
        "colab_type": "text"
      },
      "cell_type": "markdown",
      "source": [
        "**Categorize Senior citizen  as 0 and 1 **"
      ]
    },
    {
      "metadata": {
        "id": "vuX6x99AvZX3",
        "colab_type": "code",
        "colab": {}
      },
      "cell_type": "code",
      "source": [
        "df[\"SeniorCitizen\"] = df[\"SeniorCitizen\"].replace({1:\"Yes\",0:\"No\"})"
      ],
      "execution_count": 0,
      "outputs": []
    },
    {
      "metadata": {
        "id": "o9joqjaxygHl",
        "colab_type": "text"
      },
      "cell_type": "markdown",
      "source": [
        "**Import Label Encouter for converting the value between 0 and  nlcasses-1 and import StandarScaler to remove the mean and scalling to standard variant**"
      ]
    },
    {
      "metadata": {
        "id": "VvYpzaW-vppR",
        "colab_type": "code",
        "colab": {}
      },
      "cell_type": "code",
      "source": [
        "from sklearn.preprocessing import LabelEncoder\n",
        "from sklearn.preprocessing import StandardScaler"
      ],
      "execution_count": 0,
      "outputs": []
    },
    {
      "metadata": {
        "id": "AGBMSiQ5y_tQ",
        "colab_type": "text"
      },
      "cell_type": "markdown",
      "source": [
        "**Except Customer and Churn columns ,categorize the column into categoryy columns, numerical columns and binary columns**"
      ]
    },
    {
      "metadata": {
        "id": "doo1e5Lsv-a7",
        "colab_type": "code",
        "colab": {}
      },
      "cell_type": "code",
      "source": [
        "Id_col     = ['customerID']\n",
        "target_col = [\"Churn\"]\n",
        "cat_cols   = df.nunique()[df.nunique() < 6].keys().tolist()\n",
        "cat_cols   = [x for x in cat_cols if x not in target_col]\n",
        "num_cols   = [x for x in df.columns if x not in cat_cols + target_col + Id_col]\n",
        "bin_cols   = df.nunique()[df.nunique() == 2].keys().tolist()\n",
        "multi_cols = [i for i in cat_cols if i not in bin_cols]"
      ],
      "execution_count": 0,
      "outputs": []
    },
    {
      "metadata": {
        "id": "ULLvLGL2wJQx",
        "colab_type": "code",
        "colab": {}
      },
      "cell_type": "code",
      "source": [
        "le = LabelEncoder()\n",
        "for i in bin_cols :\n",
        "    df[i] = le.fit_transform(df[i])\n",
        "df = pd.get_dummies(data = df,columns = multi_cols )"
      ],
      "execution_count": 0,
      "outputs": []
    },
    {
      "metadata": {
        "id": "5TI1W8ltwPaN",
        "colab_type": "code",
        "outputId": "ce99dc45-93c2-4efd-aa76-8d0f9536e154",
        "colab": {
          "base_uri": "https://localhost:8080/",
          "height": 107
        }
      },
      "cell_type": "code",
      "source": [
        "telcom = df\n",
        "std = StandardScaler()\n",
        "scaled = std.fit_transform(telcom[num_cols])\n",
        "scaled = pd.DataFrame(scaled,columns=num_cols, index = telcom.index)"
      ],
      "execution_count": 0,
      "outputs": [
        {
          "output_type": "stream",
          "text": [
            "/usr/local/lib/python3.6/dist-packages/sklearn/preprocessing/data.py:625: DataConversionWarning: Data with input dtype int64, float64 were all converted to float64 by StandardScaler.\n",
            "  return self.partial_fit(X, y)\n",
            "/usr/local/lib/python3.6/dist-packages/sklearn/base.py:462: DataConversionWarning: Data with input dtype int64, float64 were all converted to float64 by StandardScaler.\n",
            "  return self.fit(X, **fit_params).transform(X)\n"
          ],
          "name": "stderr"
        }
      ]
    },
    {
      "metadata": {
        "id": "CFfitzuCzY3z",
        "colab_type": "text"
      },
      "cell_type": "markdown",
      "source": [
        "**Import the packages needed for creating different modes and check the metrics**"
      ]
    },
    {
      "metadata": {
        "id": "Gga-qmYBwqhP",
        "colab_type": "code",
        "colab": {}
      },
      "cell_type": "code",
      "source": [
        "from sklearn.model_selection import train_test_split\n",
        "from sklearn.linear_model import LogisticRegression\n",
        "from sklearn.metrics import confusion_matrix,accuracy_score,classification_report\n",
        "from sklearn.metrics import roc_auc_score,roc_curve,scorer\n",
        "from sklearn.metrics import f1_score\n",
        "import statsmodels.api as sm\n",
        "from sklearn.metrics import precision_score,recall_score\n",
        "from yellowbrick.classifier import DiscriminationThreshold"
      ],
      "execution_count": 0,
      "outputs": []
    },
    {
      "metadata": {
        "id": "kjLpOHrVzjB6",
        "colab_type": "text"
      },
      "cell_type": "markdown",
      "source": [
        "**Split the data into training and test**"
      ]
    },
    {
      "metadata": {
        "id": "sodkA53awsJc",
        "colab_type": "code",
        "colab": {}
      },
      "cell_type": "code",
      "source": [
        "target_col = telcom[\"Churn\"]\n",
        "\n",
        "train,test = train_test_split(telcom,test_size = .25 ,random_state = 111)\n",
        "\n",
        "cols    = [i for i in telcom.columns if i not in  target_col]\n",
        "\n",
        "X_train = train[cols]\n",
        "y_train = train[\"Churn\"]\n",
        "X_test  = test[cols]\n",
        "y_test  = test[\"Churn\"]"
      ],
      "execution_count": 0,
      "outputs": []
    },
    {
      "metadata": {
        "id": "L-2GDjl4wv7D",
        "colab_type": "code",
        "colab": {}
      },
      "cell_type": "code",
      "source": [
        "from sklearn.dummy import DummyClassifier\n",
        "from sklearn.decomposition import PCA\n",
        "from sklearn.preprocessing import OneHotEncoder, LabelEncoder, label_binarize\n",
        "from sklearn import tree , linear_model\n",
        "from sklearn.svm import LinearSVC\n",
        "from sklearn.ensemble import RandomForestClassifier, GradientBoostingClassifier\n",
        "from sklearn.neighbors import KNeighborsClassifier\n",
        "from sklearn.naive_bayes import GaussianNB\n",
        "from sklearn.linear_model import LinearRegression, LogisticRegression, Ridge, Lasso, SGDClassifier\n",
        "from sklearn.tree import DecisionTreeClassifier\n",
        "from xgboost.sklearn import XGBClassifier\n",
        "from sklearn import datasets, model_selection, metrics , preprocessing\n",
        "import scipy.stats as st\n",
        "from scipy.stats import randint as sp_randint\n",
        "from sklearn.model_selection import GridSearchCV\n",
        "from sklearn.model_selection import RandomizedSearchCV\n",
        "from sklearn.metrics import precision_recall_fscore_support, roc_curve, auc\n",
        "import time\n",
        "import io, os, sys, types, time, datetime, math, random"
      ],
      "execution_count": 0,
      "outputs": []
    },
    {
      "metadata": {
        "id": "ntITdxHGzwi2",
        "colab_type": "text"
      },
      "cell_type": "markdown",
      "source": [
        "**Create a function to  plot the ROC curve**"
      ]
    },
    {
      "metadata": {
        "id": "5e4nKKk6xUgH",
        "colab_type": "code",
        "colab": {}
      },
      "cell_type": "code",
      "source": [
        "def plot_roc_curve(y_test, preds):\n",
        "    fpr, tpr, threshold = metrics.roc_curve(y_test, preds)\n",
        "    roc_auc = metrics.auc(fpr, tpr)\n",
        "    plt.title('Receiver Operating Characteristic')\n",
        "    plt.plot(fpr, tpr, 'b', label = 'AUC = %0.2f' % roc_auc)\n",
        "    plt.legend(loc = 'lower right')\n",
        "    plt.plot([0, 1], [0, 1],'r--')\n",
        "    plt.xlim([-0.01, 1.01])\n",
        "    plt.ylim([-0.01, 1.01])\n",
        "    plt.ylabel('True Positive Rate')\n",
        "    plt.xlabel('False Positive Rate')\n",
        "    plt.show()"
      ],
      "execution_count": 0,
      "outputs": []
    },
    {
      "metadata": {
        "id": "zR4CfJjwz3Sa",
        "colab_type": "text"
      },
      "cell_type": "markdown",
      "source": [
        "**Create a common function to predict the model and check for accuracy**"
      ]
    },
    {
      "metadata": {
        "id": "HUli-hgQxZ5C",
        "colab_type": "code",
        "colab": {}
      },
      "cell_type": "code",
      "source": [
        "def fit_ml_algo(algo, X_train, y_train, X_test, cv):\n",
        "    # One Pass\n",
        "    model = algo.fit(X_train, y_train)\n",
        "    test_pred = model.predict(X_test)\n",
        "    if (isinstance(algo, (LogisticRegression, \n",
        "                          KNeighborsClassifier, \n",
        "                          GaussianNB, \n",
        "                          DecisionTreeClassifier, \n",
        "                          RandomForestClassifier,\n",
        "                          GradientBoostingClassifier))):\n",
        "        probs = model.predict_proba(X_test)[:,1]\n",
        "    else:\n",
        "        probs = \"Not Available\"\n",
        "    acc = round(model.score(X_test, y_test) * 100, 2) \n",
        "    # CV \n",
        "    train_pred = model_selection.cross_val_predict(algo, \n",
        "                                                  X_train, \n",
        "                                                  y_train, \n",
        "                                                  cv=cv, \n",
        "                                                  n_jobs = -1)\n",
        "    acc_cv = round(metrics.accuracy_score(y_train, train_pred) * 100, 2)\n",
        "    return train_pred, test_pred, acc, acc_cv, probs"
      ],
      "execution_count": 0,
      "outputs": []
    },
    {
      "metadata": {
        "id": "jCs7enR5xfqz",
        "colab_type": "code",
        "colab": {}
      },
      "cell_type": "code",
      "source": [
        "def report(results, n_top=5):\n",
        "    for i in range(1, n_top + 1):\n",
        "        candidates = np.flatnonzero(results['rank_test_score'] == i)\n",
        "        for candidate in candidates:\n",
        "            print(\"Model with rank: {0}\".format(i))\n",
        "            print(\"Mean validation score: {0:.3f} (std: {1:.3f})\".format(\n",
        "                  results['mean_test_score'][candidate],\n",
        "                  results['std_test_score'][candidate]))\n",
        "            print(\"Parameters: {0}\".format(results['params'][candidate]))\n",
        "            print(\"\")"
      ],
      "execution_count": 0,
      "outputs": []
    },
    {
      "metadata": {
        "id": "oIq8uDAX0GYS",
        "colab_type": "text"
      },
      "cell_type": "markdown",
      "source": [
        "**Using Dummy classifere check the normal accuracy of model**"
      ]
    },
    {
      "metadata": {
        "id": "sXkB0iaIxoXM",
        "colab_type": "code",
        "outputId": "ed8d518e-cb58-4e8a-e669-a69248a5107b",
        "colab": {
          "base_uri": "https://localhost:8080/",
          "height": 34
        }
      },
      "cell_type": "code",
      "source": [
        "clf = DummyClassifier(strategy='most_frequent',random_state=0)\n",
        "clf.fit(X_train, y_train)\n",
        "accuracy = clf.score(X_test, y_test)  \n",
        "accuracy"
      ],
      "execution_count": 0,
      "outputs": [
        {
          "output_type": "execute_result",
          "data": {
            "text/plain": [
              "0.7535491198182851"
            ]
          },
          "metadata": {
            "tags": []
          },
          "execution_count": 61
        }
      ]
    },
    {
      "metadata": {
        "id": "874xUsjxx0hL",
        "colab_type": "code",
        "outputId": "472666f9-ab16-4eda-a67b-1cf73e846a43",
        "colab": {
          "base_uri": "https://localhost:8080/",
          "height": 445
        }
      },
      "cell_type": "code",
      "source": [
        "preds = clf.predict(X_test)\n",
        "start_time = time.time()\n",
        "train_pred_dummy, test_pred_dummy, acc_dummy, acc_cv_dummy, probs_dummy = fit_ml_algo(DummyClassifier(strategy='most_frequent',random_state=0), \n",
        "                                                                 X_train, \n",
        "                                                                 y_train, \n",
        "                                                                 X_test, \n",
        "                                                                 10)\n",
        "dummy_time = (time.time() - start_time)\n",
        "\n",
        "print(\"Accuracy: %s\" % acc_dummy)\n",
        "print(\"Accuracy CV 10-Fold: %s\" % acc_cv_dummy)\n",
        "print(\"Running Time: %s\" % datetime.timedelta(seconds=dummy_time))\n",
        "print (metrics.classification_report(y_train, train_pred_dummy))\n",
        "print (metrics.classification_report(y_test, test_pred_dummy))"
      ],
      "execution_count": 0,
      "outputs": [
        {
          "output_type": "stream",
          "text": [
            "Accuracy: 75.35\n",
            "Accuracy CV 10-Fold: 72.83\n",
            "Running Time: 0:00:01.592902\n",
            "              precision    recall  f1-score   support\n",
            "\n",
            "           0       0.73      1.00      0.84      3847\n",
            "           1       0.00      0.00      0.00      1435\n",
            "\n",
            "   micro avg       0.73      0.73      0.73      5282\n",
            "   macro avg       0.36      0.50      0.42      5282\n",
            "weighted avg       0.53      0.73      0.61      5282\n",
            "\n",
            "              precision    recall  f1-score   support\n",
            "\n",
            "           0       0.75      1.00      0.86      1327\n",
            "           1       0.00      0.00      0.00       434\n",
            "\n",
            "   micro avg       0.75      0.75      0.75      1761\n",
            "   macro avg       0.38      0.50      0.43      1761\n",
            "weighted avg       0.57      0.75      0.65      1761\n",
            "\n"
          ],
          "name": "stdout"
        },
        {
          "output_type": "stream",
          "text": [
            "/usr/local/lib/python3.6/dist-packages/sklearn/metrics/classification.py:1143: UndefinedMetricWarning: Precision and F-score are ill-defined and being set to 0.0 in labels with no predicted samples.\n",
            "  'precision', 'predicted', average, warn_for)\n"
          ],
          "name": "stderr"
        }
      ]
    },
    {
      "metadata": {
        "id": "tIv0NuQp0h6W",
        "colab_type": "code",
        "colab": {}
      },
      "cell_type": "code",
      "source": [
        "target_col = [\"Churn\"]\n",
        "\n",
        "train,test = train_test_split(telcom,test_size = .25 ,random_state = 111)\n",
        "cols    = [i for i in telcom.columns if i not in  target_col]\n",
        "X_train = train[cols]\n",
        "y_train = train[\"Churn\"]\n",
        "X_test  = test[cols]\n",
        "y_test  = test[\"Churn\"]"
      ],
      "execution_count": 0,
      "outputs": []
    },
    {
      "metadata": {
        "id": "5fP8Cva-0TmJ",
        "colab_type": "text"
      },
      "cell_type": "markdown",
      "source": [
        "**Use logical regression to predict the model**"
      ]
    },
    {
      "metadata": {
        "id": "lYAYNdkE0EqW",
        "colab_type": "code",
        "outputId": "a2e46732-9856-4aa4-c8e1-087381e2779f",
        "colab": {
          "base_uri": "https://localhost:8080/",
          "height": 1320
        }
      },
      "cell_type": "code",
      "source": [
        "param_dist = {'penalty': ['l2', 'l1'], \n",
        "                         'class_weight': [None, 'balanced'],\n",
        "                         'C': np.logspace(-20, 20, 10000), \n",
        "                         'intercept_scaling': np.logspace(-20, 20, 10000)}\n",
        "n_iter_search = 10\n",
        "lrc = LogisticRegression()\n",
        "random_search = RandomizedSearchCV(lrc, \n",
        "                                   n_jobs=-1, \n",
        "                                   param_distributions=param_dist, \n",
        "                                   n_iter=n_iter_search)\n",
        "start = time.time()\n",
        "random_search.fit(X_train, y_train)\n",
        "print(\"RandomizedSearchCV took %.2f seconds for %d candidates\"\n",
        "      \" parameter settings.\" % ((time.time() - start), n_iter_search))\n",
        "report(random_search.cv_results_)\n",
        "start_time = time.time()\n",
        "train_pred_log, test_pred_log, acc_log, acc_cv_log, probs_log = fit_ml_algo(LogisticRegression(n_jobs = -1), \n",
        "                                                                 X_train, \n",
        "                                                                 y_train, \n",
        "                                                                 X_test, \n",
        "                                                                 10)\n",
        "log_time = (time.time() - start_time)\n",
        "print(\"Accuracy: %s\" % acc_log)\n",
        "print(\"Accuracy CV 10-Fold: %s\" % acc_cv_log)\n",
        "print(\"Running Time: %s\" % datetime.timedelta(seconds=log_time))\n",
        "\n",
        "print (metrics.classification_report(y_train, train_pred_log))\n",
        "\n",
        "print (metrics.classification_report(y_test, test_pred_log))\n",
        "\n",
        "plot_roc_curve(y_test, probs_log)"
      ],
      "execution_count": 0,
      "outputs": [
        {
          "output_type": "stream",
          "text": [
            "/usr/local/lib/python3.6/dist-packages/sklearn/model_selection/_split.py:2053: FutureWarning: You should specify a value for 'cv' instead of relying on the default value. The default value will change from 3 to 5 in version 0.22.\n",
            "  warnings.warn(CV_WARNING, FutureWarning)\n",
            "/usr/local/lib/python3.6/dist-packages/sklearn/linear_model/logistic.py:433: FutureWarning: Default solver will be changed to 'lbfgs' in 0.22. Specify a solver to silence this warning.\n",
            "  FutureWarning)\n",
            "/usr/local/lib/python3.6/dist-packages/sklearn/svm/base.py:931: ConvergenceWarning: Liblinear failed to converge, increase the number of iterations.\n",
            "  \"the number of iterations.\", ConvergenceWarning)\n",
            "/usr/local/lib/python3.6/dist-packages/sklearn/linear_model/logistic.py:433: FutureWarning: Default solver will be changed to 'lbfgs' in 0.22. Specify a solver to silence this warning.\n",
            "  FutureWarning)\n",
            "/usr/local/lib/python3.6/dist-packages/sklearn/linear_model/logistic.py:1300: UserWarning: 'n_jobs' > 1 does not have any effect when 'solver' is set to 'liblinear'. Got 'n_jobs' = 2.\n",
            "  \" = {}.\".format(effective_n_jobs(self.n_jobs)))\n"
          ],
          "name": "stderr"
        },
        {
          "output_type": "stream",
          "text": [
            "RandomizedSearchCV took 59.87 seconds for 10 candidates parameter settings.\n",
            "Model with rank: 1\n",
            "Mean validation score: 0.799 (std: 0.004)\n",
            "Parameters: {'penalty': 'l1', 'intercept_scaling': 1.3301860569649193e+19, 'class_weight': None, 'C': 0.3483005782045175}\n",
            "\n",
            "Model with rank: 2\n",
            "Mean validation score: 0.797 (std: 0.005)\n",
            "Parameters: {'penalty': 'l1', 'intercept_scaling': 1.6920875977148274e-16, 'class_weight': None, 'C': 94362074.43402536}\n",
            "\n",
            "Model with rank: 2\n",
            "Mean validation score: 0.797 (std: 0.005)\n",
            "Parameters: {'penalty': 'l1', 'intercept_scaling': 419.04650827064955, 'class_weight': None, 'C': 4011070783260.9287}\n",
            "\n",
            "Model with rank: 4\n",
            "Mean validation score: 0.746 (std: 0.001)\n",
            "Parameters: {'penalty': 'l2', 'intercept_scaling': 4311848.233512988, 'class_weight': 'balanced', 'C': 2.7538735473473475e+19}\n",
            "\n",
            "Model with rank: 5\n",
            "Mean validation score: 0.746 (std: 0.004)\n",
            "Parameters: {'penalty': 'l2', 'intercept_scaling': 2.2596199661740766, 'class_weight': 'balanced', 'C': 1.8027088572578834e+19}\n",
            "\n",
            "Accuracy: 80.86\n",
            "Accuracy CV 10-Fold: 80.1\n",
            "Running Time: 0:00:00.727088\n",
            "              precision    recall  f1-score   support\n",
            "\n",
            "           0       0.84      0.90      0.87      3847\n",
            "           1       0.67      0.53      0.59      1435\n",
            "\n",
            "   micro avg       0.80      0.80      0.80      5282\n",
            "   macro avg       0.75      0.72      0.73      5282\n",
            "weighted avg       0.79      0.80      0.79      5282\n",
            "\n",
            "              precision    recall  f1-score   support\n",
            "\n",
            "           0       0.86      0.89      0.88      1327\n",
            "           1       0.62      0.56      0.59       434\n",
            "\n",
            "   micro avg       0.81      0.81      0.81      1761\n",
            "   macro avg       0.74      0.73      0.73      1761\n",
            "weighted avg       0.80      0.81      0.81      1761\n",
            "\n"
          ],
          "name": "stdout"
        },
        {
          "output_type": "display_data",
          "data": {
            "image/png": "[encoded data removed]",
            "text/plain": [
              "<Figure size 576x396 with 1 Axes>"
            ]
          },
          "metadata": {
            "tags": []
          }
        }
      ]
    },
    {
      "metadata": {
        "id": "6dmPsscI0dVW",
        "colab_type": "text"
      },
      "cell_type": "markdown",
      "source": [
        "**Using KNN, predict the model**"
      ]
    },
    {
      "metadata": {
        "id": "jNSjweSQ1gkw",
        "colab_type": "code",
        "outputId": "27f05445-71e4-415e-841e-ff2d18aff1b7",
        "colab": {
          "base_uri": "https://localhost:8080/",
          "height": 748
        }
      },
      "cell_type": "code",
      "source": [
        "# k-Nearest Neighbors\n",
        "start_time = time.time()\n",
        "train_pred_knn, test_pred_knn, acc_knn, acc_cv_knn, probs_knn = fit_ml_algo(KNeighborsClassifier(n_neighbors = 3,\n",
        "                                                                                                 n_jobs = -1), \n",
        "                                                                                                 X_train, \n",
        "                                                                                                 y_train, \n",
        "                                                                                                 X_test, \n",
        "                                                                                                 10)\n",
        "knn_time = (time.time() - start_time)\n",
        "print(\"Accuracy: %s\" % acc_knn)\n",
        "print(\"Accuracy CV 10-Fold: %s\" % acc_cv_knn)\n",
        "print(\"Running Time: %s\" % datetime.timedelta(seconds=knn_time))\n",
        "\n",
        "print (metrics.classification_report(y_train, train_pred_knn))\n",
        "\n",
        "print (metrics.classification_report(y_test, test_pred_knn))\n",
        "\n",
        "plot_roc_curve(y_test, probs_knn)"
      ],
      "execution_count": 0,
      "outputs": [
        {
          "output_type": "stream",
          "text": [
            "Accuracy: 74.56\n",
            "Accuracy CV 10-Fold: 74.93\n",
            "Running Time: 0:00:01.055778\n",
            "              precision    recall  f1-score   support\n",
            "\n",
            "           0       0.81      0.86      0.83      3847\n",
            "           1       0.55      0.46      0.50      1435\n",
            "\n",
            "   micro avg       0.75      0.75      0.75      5282\n",
            "   macro avg       0.68      0.66      0.67      5282\n",
            "weighted avg       0.74      0.75      0.74      5282\n",
            "\n",
            "              precision    recall  f1-score   support\n",
            "\n",
            "           0       0.83      0.84      0.83      1327\n",
            "           1       0.48      0.46      0.47       434\n",
            "\n",
            "   micro avg       0.75      0.75      0.75      1761\n",
            "   macro avg       0.65      0.65      0.65      1761\n",
            "weighted avg       0.74      0.75      0.74      1761\n",
            "\n"
          ],
          "name": "stdout"
        },
        {
          "output_type": "display_data",
          "data": {
            "image/png": "[encoded data removed]",
            "text/plain": [
              "<Figure size 576x396 with 1 Axes>"
            ]
          },
          "metadata": {
            "tags": []
          }
        }
      ]
    },
    {
      "metadata": {
        "id": "dTmdap0Q0mRn",
        "colab_type": "text"
      },
      "cell_type": "markdown",
      "source": [
        "**Using  Gaussian Naive Bayes predict the model**"
      ]
    },
    {
      "metadata": {
        "id": "7qib9r7U1uK9",
        "colab_type": "code",
        "outputId": "f7d15b90-0b61-4ec1-8baf-6a00b8d3a63e",
        "colab": {
          "base_uri": "https://localhost:8080/",
          "height": 748
        }
      },
      "cell_type": "code",
      "source": [
        "# Gaussian Naive Bayes\n",
        "start_time = time.time()\n",
        "train_pred_gaussian, test_pred_gaussian, acc_gaussian, acc_cv_gaussian, probs_gau = fit_ml_algo(GaussianNB(), \n",
        "                                                                                     X_train, \n",
        "                                                                                     y_train, \n",
        "                                                                                     X_test, \n",
        "                                                                                     10)\n",
        "gaussian_time = (time.time() - start_time)\n",
        "print(\"Accuracy: %s\" % acc_gaussian)\n",
        "print(\"Accuracy CV 10-Fold: %s\" % acc_cv_gaussian)\n",
        "print(\"Running Time: %s\" % datetime.timedelta(seconds=gaussian_time))\n",
        "\n",
        "print (metrics.classification_report(y_train, train_pred_gaussian)) \n",
        "\n",
        "print (metrics.classification_report(y_test, test_pred_gaussian)) \n",
        "\n",
        "plot_roc_curve(y_test, probs_gau)"
      ],
      "execution_count": 0,
      "outputs": [
        {
          "output_type": "stream",
          "text": [
            "Accuracy: 73.65\n",
            "Accuracy CV 10-Fold: 74.67\n",
            "Running Time: 0:00:00.101562\n",
            "              precision    recall  f1-score   support\n",
            "\n",
            "           0       0.90      0.73      0.81      3847\n",
            "           1       0.52      0.78      0.63      1435\n",
            "\n",
            "   micro avg       0.75      0.75      0.75      5282\n",
            "   macro avg       0.71      0.76      0.72      5282\n",
            "weighted avg       0.80      0.75      0.76      5282\n",
            "\n",
            "              precision    recall  f1-score   support\n",
            "\n",
            "           0       0.92      0.71      0.80      1327\n",
            "           1       0.48      0.81      0.60       434\n",
            "\n",
            "   micro avg       0.74      0.74      0.74      1761\n",
            "   macro avg       0.70      0.76      0.70      1761\n",
            "weighted avg       0.81      0.74      0.75      1761\n",
            "\n"
          ],
          "name": "stdout"
        },
        {
          "output_type": "display_data",
          "data": {
            "image/png": "[encoded data removed]",
            "text/plain": [
              "<Figure size 576x396 with 1 Axes>"
            ]
          },
          "metadata": {
            "tags": []
          }
        }
      ]
    },
    {
      "metadata": {
        "id": "MzPnon6F0yQa",
        "colab_type": "text"
      },
      "cell_type": "markdown",
      "source": [
        "**Using Decision Tree predict the model**"
      ]
    },
    {
      "metadata": {
        "id": "51YhGv2b10YK",
        "colab_type": "code",
        "outputId": "343f3dea-54b9-44b3-bb37-7869be4adcce",
        "colab": {
          "base_uri": "https://localhost:8080/",
          "height": 748
        }
      },
      "cell_type": "code",
      "source": [
        "# Decision tree\n",
        "start_time = time.time()\n",
        "train_pred_dt, test_pred_dt, acc_dt, acc_cv_dt, probs_dt = fit_ml_algo(DecisionTreeClassifier(), \n",
        "                                                             X_train, \n",
        "                                                             y_train, \n",
        "                                                             X_test, \n",
        "                                                             10)\n",
        "dt_time = (time.time() - start_time)\n",
        "print(\"Accuracy: %s\" % acc_dt)\n",
        "print(\"Accuracy CV 10-Fold: %s\" % acc_cv_dt)\n",
        "print(\"Running Time: %s\" % datetime.timedelta(seconds=dt_time))\n",
        "\n",
        "print (metrics.classification_report(y_train, train_pred_dt))\n",
        "\n",
        "print (metrics.classification_report(y_test, test_pred_dt))\n",
        "\n",
        "plot_roc_curve(y_test, probs_dt)"
      ],
      "execution_count": 0,
      "outputs": [
        {
          "output_type": "stream",
          "text": [
            "Accuracy: 74.28\n",
            "Accuracy CV 10-Fold: 71.73\n",
            "Running Time: 0:00:00.337119\n",
            "              precision    recall  f1-score   support\n",
            "\n",
            "           0       0.81      0.80      0.81      3847\n",
            "           1       0.48      0.49      0.49      1435\n",
            "\n",
            "   micro avg       0.72      0.72      0.72      5282\n",
            "   macro avg       0.64      0.65      0.65      5282\n",
            "weighted avg       0.72      0.72      0.72      5282\n",
            "\n",
            "              precision    recall  f1-score   support\n",
            "\n",
            "           0       0.84      0.81      0.83      1327\n",
            "           1       0.48      0.53      0.50       434\n",
            "\n",
            "   micro avg       0.74      0.74      0.74      1761\n",
            "   macro avg       0.66      0.67      0.67      1761\n",
            "weighted avg       0.75      0.74      0.75      1761\n",
            "\n"
          ],
          "name": "stdout"
        },
        {
          "output_type": "display_data",
          "data": {
            "image/png": "[encoded data removed]",
            "text/plain": [
              "<Figure size 576x396 with 1 Axes>"
            ]
          },
          "metadata": {
            "tags": []
          }
        }
      ]
    },
    {
      "metadata": {
        "id": "iMGjOLi71DHf",
        "colab_type": "text"
      },
      "cell_type": "markdown",
      "source": [
        "**Using Random forest classifier predict the model**"
      ]
    },
    {
      "metadata": {
        "id": "UCWqNGfn2H9w",
        "colab_type": "code",
        "colab": {}
      },
      "cell_type": "code",
      "source": [
        "def report(results, n_top=5):\n",
        "    for i in range(1, n_top + 1):\n",
        "        candidates = np.flatnonzero(results['rank_test_score'] == i)\n",
        "        for candidate in candidates:\n",
        "            print(\"Model with rank: {0}\".format(i))\n",
        "            print(\"Mean validation score: {0:.3f} (std: {1:.3f})\".format(\n",
        "                  results['mean_test_score'][candidate],\n",
        "                  results['std_test_score'][candidate]))\n",
        "            print(\"Parameters: {0}\".format(results['params'][candidate]))\n",
        "            print(\"\")\n",
        "param_dist = {\"max_depth\": [10, None],\n",
        "              \"max_features\": sp_randint(1, 11),\n",
        "              \"min_samples_split\": sp_randint(2, 20),\n",
        "              \"min_samples_leaf\": sp_randint(1, 11),\n",
        "              \"bootstrap\": [True, False],\n",
        "              \"criterion\": [\"gini\", \"entropy\"]}"
      ],
      "execution_count": 0,
      "outputs": []
    },
    {
      "metadata": {
        "id": "EMVWWHsW2ard",
        "colab_type": "code",
        "outputId": "cb4e705b-8099-4c80-bb83-2f9ac3d098f7",
        "colab": {
          "base_uri": "https://localhost:8080/",
          "height": 1177
        }
      },
      "cell_type": "code",
      "source": [
        "n_iter_search = 10\n",
        "rfc = RandomForestClassifier(n_estimators=10)\n",
        "random_search = RandomizedSearchCV(rfc, \n",
        "                                   n_jobs = -1, \n",
        "                                   param_distributions=param_dist, \n",
        "                                   n_iter=n_iter_search)\n",
        "\n",
        "start = time.time()\n",
        "random_search.fit(X_train, y_train)\n",
        "print(\"RandomizedSearchCV took %.2f seconds for %d candidates\"\n",
        "      \" parameter settings.\" % ((time.time() - start), n_iter_search))\n",
        "report(random_search.cv_results_)\n",
        "# Random Forest Classifier\n",
        "start_time = time.time()\n",
        "rfc = RandomForestClassifier(n_estimators=10, \n",
        "                             min_samples_leaf=2,\n",
        "                             min_samples_split=17, \n",
        "                             criterion='gini', \n",
        "                             max_features=8)\n",
        "train_pred_rf, test_pred_rf, acc_rf, acc_cv_rf, probs_rf = fit_ml_algo(rfc, \n",
        "                                                             X_train, \n",
        "                                                             y_train, \n",
        "                                                             X_test, \n",
        "                                                             10)\n",
        "rf_time = (time.time() - start_time)\n",
        "print(\"Accuracy: %s\" % acc_rf)\n",
        "print(\"Accuracy CV 10-Fold: %s\" % acc_cv_rf)\n",
        "print(\"Running Time: %s\" % datetime.timedelta(seconds=rf_time))\n",
        "\n",
        "print (metrics.classification_report(y_train, train_pred_rf)) \n",
        "\n",
        "print (metrics.classification_report(y_test, test_pred_rf))\n",
        "\n",
        "plot_roc_curve(y_test, probs_rf)"
      ],
      "execution_count": 0,
      "outputs": [
        {
          "output_type": "stream",
          "text": [
            "/usr/local/lib/python3.6/dist-packages/sklearn/model_selection/_split.py:2053: FutureWarning: You should specify a value for 'cv' instead of relying on the default value. The default value will change from 3 to 5 in version 0.22.\n",
            "  warnings.warn(CV_WARNING, FutureWarning)\n"
          ],
          "name": "stderr"
        },
        {
          "output_type": "stream",
          "text": [
            "RandomizedSearchCV took 1.05 seconds for 10 candidates parameter settings.\n",
            "Model with rank: 1\n",
            "Mean validation score: 0.799 (std: 0.005)\n",
            "Parameters: {'bootstrap': False, 'criterion': 'entropy', 'max_depth': 10, 'max_features': 6, 'min_samples_leaf': 9, 'min_samples_split': 8}\n",
            "\n",
            "Model with rank: 2\n",
            "Mean validation score: 0.797 (std: 0.005)\n",
            "Parameters: {'bootstrap': True, 'criterion': 'entropy', 'max_depth': 10, 'max_features': 7, 'min_samples_leaf': 6, 'min_samples_split': 14}\n",
            "\n",
            "Model with rank: 3\n",
            "Mean validation score: 0.793 (std: 0.005)\n",
            "Parameters: {'bootstrap': False, 'criterion': 'gini', 'max_depth': 10, 'max_features': 4, 'min_samples_leaf': 2, 'min_samples_split': 6}\n",
            "\n",
            "Model with rank: 3\n",
            "Mean validation score: 0.793 (std: 0.001)\n",
            "Parameters: {'bootstrap': True, 'criterion': 'gini', 'max_depth': 10, 'max_features': 4, 'min_samples_leaf': 6, 'min_samples_split': 5}\n",
            "\n",
            "Model with rank: 5\n",
            "Mean validation score: 0.792 (std: 0.007)\n",
            "Parameters: {'bootstrap': False, 'criterion': 'entropy', 'max_depth': None, 'max_features': 5, 'min_samples_leaf': 7, 'min_samples_split': 6}\n",
            "\n",
            "Accuracy: 80.24\n",
            "Accuracy CV 10-Fold: 78.7\n",
            "Running Time: 0:00:00.472539\n",
            "              precision    recall  f1-score   support\n",
            "\n",
            "           0       0.83      0.89      0.86      3847\n",
            "           1       0.63      0.51      0.57      1435\n",
            "\n",
            "   micro avg       0.79      0.79      0.79      5282\n",
            "   macro avg       0.73      0.70      0.71      5282\n",
            "weighted avg       0.78      0.79      0.78      5282\n",
            "\n",
            "              precision    recall  f1-score   support\n",
            "\n",
            "           0       0.85      0.89      0.87      1327\n",
            "           1       0.61      0.53      0.57       434\n",
            "\n",
            "   micro avg       0.80      0.80      0.80      1761\n",
            "   macro avg       0.73      0.71      0.72      1761\n",
            "weighted avg       0.79      0.80      0.80      1761\n",
            "\n"
          ],
          "name": "stdout"
        },
        {
          "output_type": "display_data",
          "data": {
            "image/png": "[encoded data removed]",
            "text/plain": [
              "<Figure size 576x396 with 1 Axes>"
            ]
          },
          "metadata": {
            "tags": []
          }
        }
      ]
    },
    {
      "metadata": {
        "id": "hbHKnbDx1Mhi",
        "colab_type": "text"
      },
      "cell_type": "markdown",
      "source": [
        "**Using Gradient Boosting predict the model**"
      ]
    },
    {
      "metadata": {
        "id": "ojni04UI2onl",
        "colab_type": "code",
        "outputId": "4067fd85-2fe6-430c-956c-9893de277d9f",
        "colab": {
          "base_uri": "https://localhost:8080/",
          "height": 748
        }
      },
      "cell_type": "code",
      "source": [
        "# Gradient Boosting Trees\n",
        "start_time = time.time()\n",
        "train_pred_gbt, test_pred_gbt, acc_gbt, acc_cv_gbt, probs_gbt = fit_ml_algo(GradientBoostingClassifier(), \n",
        "                                                                 X_train, \n",
        "                                                                 y_train, \n",
        "                                                                 X_test, \n",
        "                                                                 10)\n",
        "gbt_time = (time.time() - start_time)\n",
        "print(\"Accuracy: %s\" % acc_gbt)\n",
        "print(\"Accuracy CV 10-Fold: %s\" % acc_cv_gbt)\n",
        "print(\"Running Time: %s\" % datetime.timedelta(seconds=gbt_time))\n",
        "\n",
        "print (metrics.classification_report(y_train, train_pred_gbt)) \n",
        "\n",
        "print (metrics.classification_report(y_test, test_pred_gbt))\n",
        "\n",
        "plot_roc_curve(y_test, probs_gbt)"
      ],
      "execution_count": 0,
      "outputs": [
        {
          "output_type": "stream",
          "text": [
            "Accuracy: 80.58\n",
            "Accuracy CV 10-Fold: 80.16\n",
            "Running Time: 0:00:04.686486\n",
            "              precision    recall  f1-score   support\n",
            "\n",
            "           0       0.84      0.90      0.87      3847\n",
            "           1       0.67      0.53      0.59      1435\n",
            "\n",
            "   micro avg       0.80      0.80      0.80      5282\n",
            "   macro avg       0.75      0.72      0.73      5282\n",
            "weighted avg       0.79      0.80      0.79      5282\n",
            "\n",
            "              precision    recall  f1-score   support\n",
            "\n",
            "           0       0.86      0.89      0.87      1327\n",
            "           1       0.62      0.55      0.58       434\n",
            "\n",
            "   micro avg       0.81      0.81      0.81      1761\n",
            "   macro avg       0.74      0.72      0.73      1761\n",
            "weighted avg       0.80      0.81      0.80      1761\n",
            "\n"
          ],
          "name": "stdout"
        },
        {
          "output_type": "display_data",
          "data": {
            "image/png": "[encoded data removed]",
            "text/plain": [
              "<Figure size 576x396 with 1 Axes>"
            ]
          },
          "metadata": {
            "tags": []
          }
        }
      ]
    },
    {
      "metadata": {
        "id": "zKCKP2-K1bxY",
        "colab_type": "text"
      },
      "cell_type": "markdown",
      "source": [
        "**Using XG boost predict the alogirthm**"
      ]
    },
    {
      "metadata": {
        "id": "TCCpcunE2wfL",
        "colab_type": "code",
        "outputId": "8265d23e-abba-47a1-e948-b500c44b220d",
        "colab": {
          "base_uri": "https://localhost:8080/",
          "height": 1228
        }
      },
      "cell_type": "code",
      "source": [
        "def xgb_f1(y, t):\n",
        "    #\n",
        "    # Function to evaluate the prediction based on F1 score, this will be used as evaluation metric when training xgboost model\n",
        "    # Args:\n",
        "    #   y: label\n",
        "    #   t: predicted\n",
        "    #\n",
        "    # Return:\n",
        "    #   f1: F1 score of the actual and predicted\n",
        "    #\n",
        "    t = t.get_label()\n",
        "    y_bin = [1. if y_cont > 0.5 else 0. for y_cont in y]   # change the prob to class output\n",
        "    return 'f1', f1_score(t, y_bin)\n",
        "best_xgb = XGBClassifier(objective = 'binary:logistic',\n",
        "                         colsample_bylevel = 0.7,\n",
        "                         colsample_bytree = 0.8,\n",
        "                         gamma = 1,\n",
        "                         learning_rate = 0.15,\n",
        "                         max_delta_step = 3,\n",
        "                         max_depth = 4,\n",
        "                         min_child_weight = 1,\n",
        "                         n_estimators = 50,\n",
        "                         reg_lambda = 10,\n",
        "                         scale_pos_weight = 1.5,\n",
        "                         subsample = 0.9,\n",
        "                         silent = False,\n",
        "                         n_jobs = 4\n",
        "                        )\n",
        "\n",
        "xgbst = best_xgb.fit(X_train, y_train, eval_metric = xgb_f1, eval_set = [(X_train, y_train), (X_test, y_test)], \n",
        "             early_stopping_rounds = 20)\n",
        "train_pred_xgbst, test_pred_xgbst, acc_xgbst, acc_cv_xgbst, probs_xgbst = fit_ml_algo(xgbst, \n",
        "                                                             X_train, \n",
        "                                                             y_train, \n",
        "                                                             X_test, \n",
        "                                                             10)\n",
        "gbt_time = (time.time() - start_time)\n",
        "print(\"Accuracy: %s\" % acc_xgbst)\n",
        "print(\"Accuracy CV 10-Fold: %s\" %acc_cv_xgbst)\n",
        "print(\"Running Time: %s\" % datetime.timedelta(seconds=gbt_time))\n",
        "\n",
        "print (metrics.classification_report(y_train, train_pred_xgbst)) \n",
        "\n",
        "print (metrics.classification_report(y_test, test_pred_xgbst))\n",
        "\n",
        "\n",
        "\n",
        "import xgboost as xgb\n",
        "xgb.plot_importance(best_xgb, max_num_features = 15)\n",
        "plt.show();"
      ],
      "execution_count": 0,
      "outputs": [
        {
          "output_type": "stream",
          "text": [
            "[0]\tvalidation_0-error:0.228512\tvalidation_1-error:0.244179\tvalidation_0-f1:0.615483\tvalidation_1-f1:0.566532\n",
            "Multiple eval metrics have been passed: 'validation_1-f1' will be used for early stopping.\n",
            "\n",
            "Will train until validation_1-f1 hasn't improved in 20 rounds.\n",
            "[1]\tvalidation_0-error:0.214123\tvalidation_1-error:0.229415\tvalidation_0-f1:0.635983\tvalidation_1-f1:0.588595\n",
            "[2]\tvalidation_0-error:0.214502\tvalidation_1-error:0.229983\tvalidation_0-f1:0.636743\tvalidation_1-f1:0.588832\n",
            "[3]\tvalidation_0-error:0.211662\tvalidation_1-error:0.222033\tvalidation_0-f1:0.633202\tvalidation_1-f1:0.598974\n",
            "[4]\tvalidation_0-error:0.214502\tvalidation_1-error:0.229415\tvalidation_0-f1:0.640203\tvalidation_1-f1:0.602362\n",
            "[5]\tvalidation_0-error:0.213177\tvalidation_1-error:0.226576\tvalidation_0-f1:0.638407\tvalidation_1-f1:0.600601\n",
            "[6]\tvalidation_0-error:0.214881\tvalidation_1-error:0.228279\tvalidation_0-f1:0.639339\tvalidation_1-f1:0.60198\n",
            "[7]\tvalidation_0-error:0.209769\tvalidation_1-error:0.22544\tvalidation_0-f1:0.646232\tvalidation_1-f1:0.604975\n",
            "[8]\tvalidation_0-error:0.208822\tvalidation_1-error:0.219762\tvalidation_0-f1:0.640131\tvalidation_1-f1:0.606307\n",
            "[9]\tvalidation_0-error:0.207686\tvalidation_1-error:0.219762\tvalidation_0-f1:0.644178\tvalidation_1-f1:0.610272\n",
            "[10]\tvalidation_0-error:0.208444\tvalidation_1-error:0.220329\tvalidation_0-f1:0.642416\tvalidation_1-f1:0.609658\n",
            "[11]\tvalidation_0-error:0.205225\tvalidation_1-error:0.21749\tvalidation_0-f1:0.645752\tvalidation_1-f1:0.610376\n",
            "[12]\tvalidation_0-error:0.205036\tvalidation_1-error:0.216922\tvalidation_0-f1:0.643867\tvalidation_1-f1:0.610204\n",
            "[13]\tvalidation_0-error:0.202007\tvalidation_1-error:0.212379\tvalidation_0-f1:0.645161\tvalidation_1-f1:0.610417\n",
            "[14]\tvalidation_0-error:0.201817\tvalidation_1-error:0.212947\tvalidation_0-f1:0.646552\tvalidation_1-f1:0.609781\n",
            "[15]\tvalidation_0-error:0.20125\tvalidation_1-error:0.213515\tvalidation_0-f1:0.648595\tvalidation_1-f1:0.61157\n",
            "[16]\tvalidation_0-error:0.200303\tvalidation_1-error:0.214083\tvalidation_0-f1:0.650825\tvalidation_1-f1:0.610939\n",
            "[17]\tvalidation_0-error:0.198788\tvalidation_1-error:0.208972\tvalidation_0-f1:0.651163\tvalidation_1-f1:0.615866\n",
            "[18]\tvalidation_0-error:0.199924\tvalidation_1-error:0.210676\tvalidation_0-f1:0.650563\tvalidation_1-f1:0.616339\n",
            "[19]\tvalidation_0-error:0.200492\tvalidation_1-error:0.210676\tvalidation_0-f1:0.650841\tvalidation_1-f1:0.617131\n",
            "[20]\tvalidation_0-error:0.19841\tvalidation_1-error:0.212947\tvalidation_0-f1:0.65321\tvalidation_1-f1:0.612203\n",
            "Stopping. Best iteration:\n",
            "[0]\tvalidation_0-error:0.228512\tvalidation_1-error:0.244179\tvalidation_0-f1:0.615483\tvalidation_1-f1:0.566532\n",
            "\n",
            "Accuracy: 79.56\n",
            "Accuracy CV 10-Fold: 78.59\n",
            "Running Time: 0:55:36.495431\n",
            "              precision    recall  f1-score   support\n",
            "\n",
            "           0       0.86      0.84      0.85      3847\n",
            "           1       0.60      0.65      0.62      1435\n",
            "\n",
            "   micro avg       0.79      0.79      0.79      5282\n",
            "   macro avg       0.73      0.74      0.74      5282\n",
            "weighted avg       0.79      0.79      0.79      5282\n",
            "\n",
            "              precision    recall  f1-score   support\n",
            "\n",
            "           0       0.89      0.83      0.86      1327\n",
            "           1       0.57      0.70      0.63       434\n",
            "\n",
            "   micro avg       0.80      0.80      0.80      1761\n",
            "   macro avg       0.73      0.76      0.74      1761\n",
            "weighted avg       0.81      0.80      0.80      1761\n",
            "\n"
          ],
          "name": "stdout"
        },
        {
          "output_type": "display_data",
          "data": {
            "image/png": "[encoded data removed]",
            "text/plain": [
              "<Figure size 576x396 with 1 Axes>"
            ]
          },
          "metadata": {
            "tags": []
          }
        }
      ]
    },
    {
      "metadata": {
        "id": "HMKIkYeQ3D_l",
        "colab_type": "code",
        "outputId": "e416ad91-3831-431c-f020-1fea2f4bfa82",
        "colab": {
          "base_uri": "https://localhost:8080/",
          "height": 346
        }
      },
      "cell_type": "code",
      "source": [
        "models = pd.DataFrame({\n",
        "    'Model': ['KNN', 'Logistic Regression', \n",
        "              'Random Forest', 'Naive Bayes', \n",
        "               \n",
        "              'Decision Tree', \n",
        "              'Gradient Boosting Trees'],\n",
        "    'Score': [\n",
        "        acc_knn, \n",
        "        acc_log, \n",
        "        acc_rf, \n",
        "        acc_gaussian, \n",
        "        acc_dt,\n",
        "        acc_gbt,\n",
        "        \n",
        "    ]})\n",
        "models.sort_values(by='Score', ascending=False)\n",
        "models = [\n",
        "    'KNN', \n",
        "    'Logistic Regression', \n",
        "    'Random Forest', \n",
        "    'Naive Bayes', \n",
        "    'Decision Tree', \n",
        "    'Gradient Boosting Trees',\n",
        "    \n",
        "]\n",
        "\n",
        "probs = [\n",
        "    probs_knn,\n",
        "    probs_log,\n",
        "    probs_rf,\n",
        "    probs_gau,\n",
        "    probs_dt,\n",
        "    probs_gbt\n",
        "]\n",
        "colors = [\n",
        "    'blue',\n",
        "    'green',\n",
        "    'red',\n",
        "    'cyan',\n",
        "    'magenta',\n",
        "    'yellow',\n",
        "    'black',\n",
        "]\n",
        "def plot_roc_curves(y_test, prob, model):\n",
        "    fpr, tpr, threshold = metrics.roc_curve(y_test, prob)\n",
        "    roc_auc = metrics.auc(fpr, tpr)\n",
        "    plt.plot(fpr, tpr, 'b', label = model + ' AUC = %0.2f' % roc_auc, color=colors[i])\n",
        "    plt.legend(loc = 'lower right')\n",
        "    \n",
        "for i, model in list(enumerate(models)):\n",
        "    plot_roc_curves(y_test, probs[i], models[i])\n",
        "    \n",
        "plt.show()\n"
      ],
      "execution_count": 0,
      "outputs": [
        {
          "output_type": "display_data",
          "data": {
            "image/png": "[encoded data removed]",
            "text/plain": [
              "<Figure size 576x396 with 1 Axes>"
            ]
          },
          "metadata": {
            "tags": []
          }
        }
      ]
    }
  ]
}